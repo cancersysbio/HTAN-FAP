{
 "cells": [
  {
   "cell_type": "code",
   "execution_count": 1,
   "id": "a7f1159f",
   "metadata": {},
   "outputs": [],
   "source": [
    "import pyranges as pr\n",
    "import pandas as pd\n",
    "import numpy as np\n",
    "import seaborn as sns\n",
    "import matplotlib.pyplot as plt"
   ]
  },
  {
   "cell_type": "code",
   "execution_count": 2,
   "id": "32c244aa",
   "metadata": {},
   "outputs": [],
   "source": [
    "# root directory where unfiltered mutation data are stored\n",
    "# if using the zenodo data, this should point to the location of the base zenodo directory \n",
    "data_dir = \"\"\n",
    "input_dir = data_dir + \"unfiltered/\"\n",
    "save_dir = data_dir + \"ppVAF_temp/\"\n",
    "\n",
    "maf_names = ['HTAN_WES_WGS', \"PUTH\", \"SCORT\"]\n",
    "\n",
    "# path to /data directory in github repo where blacklist region info is stored; default relative path given\n",
    "repo_data_dir = \"../../data/\""
   ]
  },
  {
   "cell_type": "code",
   "execution_count": 3,
   "id": "fc29cc87",
   "metadata": {},
   "outputs": [],
   "source": [
    "padding = 1e5\n",
    "\n",
    "removed_regions_loc = repo_data_dir+\"resource/\"+\"hg38.UCSC.centromere.telomere.encode.bed\"\n",
    "removed_regions = pd.read_csv(removed_regions_loc, sep=\"\\t\", names=[\"chrom\", \"start_pos\", \"end_pos\", \"length\", \"source\", \"reason\"])\n",
    "removed_regions[\"is_centromere\"] = ~np.isin(removed_regions[\"reason\"], ['High Signal Region', 'Low Mappability','telomere'])\n",
    "removed_regions.loc[removed_regions[\"is_centromere\"], \"start_pos\"] -= padding\n",
    "removed_regions.loc[removed_regions[\"is_centromere\"], \"end_pos\"] += padding\n",
    "removed_regions[\"length\"] = removed_regions[\"end_pos\"] - removed_regions[\"start_pos\"]\n",
    "\n",
    "removed_ranges = removed_regions.rename(columns={\"chrom\":\"Chromosome\", \"start_pos\":\"Start\", \"end_pos\":\"End\"})[[\"Chromosome\", \"Start\", \"End\"]]\n",
    "removed_ranges[\"Strand\"] = \"+\"\n",
    "removed_ranges = pr.PyRanges(removed_ranges)"
   ]
  },
  {
   "cell_type": "code",
   "execution_count": 4,
   "id": "c3f7961a",
   "metadata": {},
   "outputs": [
    {
     "name": "stderr",
     "output_type": "stream",
     "text": [
      "/share/software/user/open/py-jupyter/1.0.0_py39/lib/python3.9/site-packages/IPython/core/interactiveshell.py:3441: DtypeWarning: Columns (87,88,90) have mixed types.Specify dtype option on import or set low_memory=False.\n",
      "  exec(code_obj, self.user_global_ns, self.user_ns)\n"
     ]
    }
   ],
   "source": [
    "def make_ID(components):\n",
    "    return '_'.join([str(x) for x in components])\n",
    "\n",
    "def check_if_male(patient):\n",
    "    if patient in [\"A001\", \"G001\", \"PUTH_FAP5\", \"SCORT_A02\", \"SCORT_A03\", \"SCORT_A06\", \"SCORT_A07\", \"SCORT_A08\", \"SCORT_C06\", \"SCORT_C07\", \"SCORT_C08\"]:\n",
    "        return True\n",
    "    else:\n",
    "        return False\n",
    "\n",
    "all_mafs = []\n",
    "for maf_name in maf_names:\n",
    "    to_add = pd.read_csv(input_dir+maf_name+\"_unfiltered.maf\", sep=\"\\t\")\n",
    "    to_add[\"Mut_ID\"] = to_add[['Chromosome', 'Start_Position', 'Reference_Allele', 'Tumor_Seq_Allele2']].agg(make_ID, axis=1).tolist()\n",
    "    to_add[\"vaf\"] = to_add[\"t_alt_count\"]/to_add[\"t_depth\"]\n",
    "    to_add[\"is_male\"] = [check_if_male(x) for x in to_add[\"Patient\"]]\n",
    "    to_add = to_add[~np.logical_and(~to_add[\"is_male\"], to_add[\"Chromosome\"]==\"chrY\")]\n",
    "    all_mafs.append(to_add)"
   ]
  },
  {
   "cell_type": "code",
   "execution_count": 5,
   "id": "a0b4b1e6",
   "metadata": {},
   "outputs": [],
   "source": [
    "def filter_blacklist(maf):\n",
    "    ranges_cols = [\"Chromosome\", \"Start_Position\", \"End_Position\", \"Strand\", \"Mut_ID\"]\n",
    "    maf_ranges = maf[ranges_cols].rename(columns={\"Start_Position\":\"Start\", \"End_Position\":\"End\"})\n",
    "    maf_ranges = pr.PyRanges(maf_ranges)\n",
    "    to_remove = list(set(maf_ranges.overlap(removed_ranges).Mut_ID))\n",
    "    filtered_maf = maf[~np.isin(maf[\"Mut_ID\"], to_remove)]\n",
    "    return filtered_maf\n",
    "\n",
    "filtered_mafs = []\n",
    "for maf in all_mafs:\n",
    "    filtered_mafs.append(filter_blacklist(maf))"
   ]
  },
  {
   "cell_type": "code",
   "execution_count": 6,
   "id": "7eeab8b8",
   "metadata": {},
   "outputs": [],
   "source": [
    "for i,save_name in enumerate(maf_names):\n",
    "    if save_name == \"HTAN_WES_WGS\":\n",
    "        continue\n",
    "    to_save = filtered_mafs[i]\n",
    "    to_save.to_csv(save_dir+save_name+\"_filtered.maf\", sep=\"\\t\", index=False)"
   ]
  },
  {
   "cell_type": "code",
   "execution_count": 7,
   "id": "de98e772",
   "metadata": {},
   "outputs": [],
   "source": [
    "driver_list = pd.read_csv(repo_data_dir+\"resource/\"+\"PanCanDrivers_COADREAD_Cell2018.csv\")\n",
    "coad_drivers = driver_list[driver_list[\"Cancer\"]==\"COADREAD\"]"
   ]
  },
  {
   "cell_type": "code",
   "execution_count": 8,
   "id": "fa330375",
   "metadata": {},
   "outputs": [
    {
     "name": "stderr",
     "output_type": "stream",
     "text": [
      "/tmp/ipykernel_235721/4058022740.py:11: SettingWithCopyWarning: \n",
      "A value is trying to be set on a copy of a slice from a DataFrame.\n",
      "Try using .loc[row_indexer,col_indexer] = value instead\n",
      "\n",
      "See the caveats in the documentation: https://pandas.pydata.org/pandas-docs/stable/user_guide/indexing.html#returning-a-view-versus-a-copy\n",
      "  HTAN_maf[\"Driver\"] = np.logical_and(np.isin(HTAN_maf[\"Hugo_Symbol\"], coad_drivers[\"Gene\"]), np.isin(HTAN_maf[\"Variant_Classification\"], non_silent))\n",
      "/share/software/user/open/py-pandas/1.3.1_py39/lib/python3.9/site-packages/pandas/util/_decorators.py:311: SettingWithCopyWarning: \n",
      "A value is trying to be set on a copy of a slice from a DataFrame\n",
      "\n",
      "See the caveats in the documentation: https://pandas.pydata.org/pandas-docs/stable/user_guide/indexing.html#returning-a-view-versus-a-copy\n",
      "  return func(*args, **kwargs)\n"
     ]
    },
    {
     "name": "stdout",
     "output_type": "stream",
     "text": [
      "Shared mutations removed: 32872\n"
     ]
    },
    {
     "name": "stderr",
     "output_type": "stream",
     "text": [
      "/tmp/ipykernel_235721/4058022740.py:21: SettingWithCopyWarning: \n",
      "A value is trying to be set on a copy of a slice from a DataFrame.\n",
      "Try using .loc[row_indexer,col_indexer] = value instead\n",
      "\n",
      "See the caveats in the documentation: https://pandas.pydata.org/pandas-docs/stable/user_guide/indexing.html#returning-a-view-versus-a-copy\n",
      "  HTAN_maf[\"Stage\"] = [sample_to_stage[x] for x in HTAN_maf[\"Tumor_Sample_Barcode\"]]\n"
     ]
    }
   ],
   "source": [
    "# Removes mutations shared between samples in the HTAN cohort ONLY\n",
    "# Also adds lesion stage annotations from Table S2\n",
    "# Should not be run on other cohorts, particularly those with multiregion sequencing\n",
    "\n",
    "assert \"HTAN_WES_WGS\" in maf_names\n",
    "\n",
    "non_silent = [\"Missense_Mutation\", \"Nonsense_Mutation\", \"Nonstop_Mutation\", \"Frame_Shift_Del\", \"Frame_Shift_Ins\", \"In_Frame_Del\", \"Frame_Shift_Ins\"]\n",
    "\n",
    "HTAN_maf = filtered_mafs[maf_names.index(\"HTAN_WES_WGS\")]\n",
    "\n",
    "HTAN_maf[\"Driver\"] = np.logical_and(np.isin(HTAN_maf[\"Hugo_Symbol\"], coad_drivers[\"Gene\"]), np.isin(HTAN_maf[\"Variant_Classification\"], non_silent))\n",
    "to_shared = HTAN_maf[~HTAN_maf[\"Driver\"]]\n",
    "to_shared.drop_duplicates(subset=[\"Mut_ID\", \"Tumor_Sample_Barcode\"], inplace=True)\n",
    "shared = to_shared.value_counts(\"Mut_ID\")\n",
    "shared = shared[shared > 1]\n",
    "HTAN_maf_noshared = HTAN_maf[~np.isin(HTAN_maf[\"Mut_ID\"], shared.index)]\n",
    "print(\"Shared mutations removed:\", str(len(HTAN_maf)-len(HTAN_maf_noshared)))  \n",
    "\n",
    "sample_metadata = pd.read_csv(repo_data_dir+\"Table_S2.csv\", index_col=0)\n",
    "sample_to_stage = dict(zip(sample_metadata.index, sample_metadata[\"Stage\"]))\n",
    "HTAN_maf[\"Stage\"] = [sample_to_stage[x] for x in HTAN_maf[\"Tumor_Sample_Barcode\"]]\n",
    "\n",
    "HTAN_WGS = HTAN_maf[HTAN_maf[\"Method\"]==\"WG\"]\n",
    "HTAN_WES = HTAN_maf[HTAN_maf[\"Method\"]==\"WE\"]\n",
    "\n",
    "HTAN_WGS.to_csv(save_dir+\"HTAN_WGS_filtered.maf\", sep=\"\\t\", index=False)\n",
    "HTAN_WES.to_csv(save_dir+\"HTAN_WES_filtered.maf\", sep=\"\\t\", index=False)"
   ]
  },
  {
   "cell_type": "code",
   "execution_count": null,
   "id": "30af9578",
   "metadata": {},
   "outputs": [],
   "source": []
  }
 ],
 "metadata": {
  "kernelspec": {
   "display_name": "py39_sherlock",
   "language": "python",
   "name": "py39_sherlock"
  },
  "language_info": {
   "codemirror_mode": {
    "name": "ipython",
    "version": 3
   },
   "file_extension": ".py",
   "mimetype": "text/x-python",
   "name": "python",
   "nbconvert_exporter": "python",
   "pygments_lexer": "ipython3",
   "version": "3.9.0"
  }
 },
 "nbformat": 4,
 "nbformat_minor": 5
}
