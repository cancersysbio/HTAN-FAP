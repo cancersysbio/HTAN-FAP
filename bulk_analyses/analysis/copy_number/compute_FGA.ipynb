{
 "cells": [
  {
   "cell_type": "code",
   "execution_count": 1,
   "id": "d1a3ca7d",
   "metadata": {},
   "outputs": [],
   "source": [
    "%load_ext autoreload\n",
    "%autoreload 2"
   ]
  },
  {
   "cell_type": "code",
   "execution_count": 2,
   "id": "0cde1a1f",
   "metadata": {},
   "outputs": [],
   "source": [
    "import pandas as pd\n",
    "import numpy as np\n",
    "import os\n",
    "\n",
    "from CN_utils import *"
   ]
  },
  {
   "cell_type": "code",
   "execution_count": 3,
   "id": "d5044e43",
   "metadata": {},
   "outputs": [],
   "source": [
    "# Directory containing the .tsv FACETS CN segments files for each dataset, including filtered ones.\n",
    "# Default repo location given.\n",
    "# External datasets not included with our repo- you will have to generate these yourself\n",
    "\n",
    "input_dir = \"../../data/copy_number/\"\n",
    "dataset_names = [\"HTAN_WGS\", \"HTAN_WES\", \"PUTH\", \"SCORT\"]\n",
    "\n",
    "resource_dir = \"../../data/resource/\"\n",
    "\n",
    "save_dir = input_dir+\"fraction_genome_altered/\""
   ]
  },
  {
   "cell_type": "code",
   "execution_count": 4,
   "id": "6a44764e",
   "metadata": {},
   "outputs": [],
   "source": [
    "removed_regions_loc = resource_dir+\"hg38.UCSC.centromere.telomere.encode.bed\"\n",
    "\n",
    "removed_regions = pd.read_csv(removed_regions_loc, sep=\"\\t\", names=[\"chrom\", \"start_pos\", \"end_pos\", \"length\", \"source\", \"reason\"])\n",
    "\n",
    "telomere_table = removed_regions[removed_regions[\"reason\"]==\"telomere\"]\n",
    "\n",
    "telomere_dict = {}\n",
    "for chrom in list(set(telomere_table[\"chrom\"])):\n",
    "    only_chrom = telomere_table[telomere_table[\"chrom\"]==chrom]\n",
    "    telomere_dict[chrom] = [only_chrom.iloc[0][\"end_pos\"], only_chrom.iloc[1][\"start_pos\"]]\n",
    "    \n",
    "genome_len = sum([telomere_dict[x][1]-telomere_dict[x][0] if not x in [\"chrX\", \"chrY\"] else 0 for x in telomere_dict])"
   ]
  },
  {
   "cell_type": "code",
   "execution_count": 5,
   "id": "d7e817d5",
   "metadata": {},
   "outputs": [],
   "source": [
    "merged_filtered_datasets = []\n",
    "WGD_info = []\n",
    "for dataset in dataset_names:\n",
    "    data_to_add = pd.read_csv(input_dir+dataset+\"_CN_filtered_merged.tsv\", sep=\"\\t\")\n",
    "    merged_filtered_datasets.append(data_to_add)\n",
    "    doubling_to_add = pd.read_csv(input_dir+\"genome_doubling/\"+dataset+\"_doubled.tsv\", sep=\"\\t\", index_col=0)\n",
    "    WGD_info.append(dict(zip(doubling_to_add.index, doubling_to_add[\"genome_doubled\"])))"
   ]
  },
  {
   "cell_type": "code",
   "execution_count": 6,
   "id": "633b5e1f",
   "metadata": {},
   "outputs": [
    {
     "name": "stderr",
     "output_type": "stream",
     "text": [
      "/oak/stanford/groups/ccurtis2/users/debra/FAP/py_notebooks/final_for_submission/analysis/copy_number/CN_utils.py:156: SettingWithCopyWarning: \n",
      "A value is trying to be set on a copy of a slice from a DataFrame.\n",
      "Try using .loc[row_indexer,col_indexer] = value instead\n",
      "\n",
      "See the caveats in the documentation: https://pandas.pydata.org/pandas-docs/stable/user_guide/indexing.html#returning-a-view-versus-a-copy\n",
      "  not_normal_cn[\"length\"] = not_normal_cn[\"loc_end\"] - not_normal_cn[\"loc_start\"]\n"
     ]
    }
   ],
   "source": [
    "for i,to_fga in enumerate(merged_filtered_datasets):\n",
    "    save_name = dataset_names[i]\n",
    "    fga = fraction_genome_altered(to_fga, genome_len, WGD_info[i]).sort_index()\n",
    "    fga.to_csv(save_dir+save_name+\"_fga.tsv\", sep=\"\\t\", header=False)"
   ]
  },
  {
   "cell_type": "code",
   "execution_count": null,
   "id": "5c54abe7",
   "metadata": {},
   "outputs": [],
   "source": []
  }
 ],
 "metadata": {
  "kernelspec": {
   "display_name": "py39_sherlock",
   "language": "python",
   "name": "py39_sherlock"
  },
  "language_info": {
   "codemirror_mode": {
    "name": "ipython",
    "version": 3
   },
   "file_extension": ".py",
   "mimetype": "text/x-python",
   "name": "python",
   "nbconvert_exporter": "python",
   "pygments_lexer": "ipython3",
   "version": "3.9.0"
  }
 },
 "nbformat": 4,
 "nbformat_minor": 5
}
