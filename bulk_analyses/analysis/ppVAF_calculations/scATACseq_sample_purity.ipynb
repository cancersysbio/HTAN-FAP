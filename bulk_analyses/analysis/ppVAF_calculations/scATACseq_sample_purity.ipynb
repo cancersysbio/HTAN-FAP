{
 "cells": [
  {
   "cell_type": "code",
   "execution_count": 1,
   "id": "bc4a08f1",
   "metadata": {},
   "outputs": [],
   "source": [
    "import pandas as pd\n",
    "import numpy as np\n",
    "from scipy import stats\n",
    "import pickle"
   ]
  },
  {
   "cell_type": "code",
   "execution_count": 2,
   "id": "716af8c6",
   "metadata": {},
   "outputs": [],
   "source": [
    "# THIS NOTEBOOK TAKES THE scATAC-seq DATA FROM BECKER ET AL NAT GEN (2022) FROM THE SAME COHORT AND COMPUTES\n",
    "# SMOOTHED EPITHELIAL FRACTION PURITY DISTRIBUTIONS FOR POLYPS AND NORMAL MUCOSA\n",
    "# Requires epithelial_celltypes_atac.tsv, stromal_celltypes_atac.tsv, and immune_celltypes_atac.tsv in annot_dir (provided in github repo)\n",
    "# Saves a python pickle file (scATAC_purities.p) in the same folder, used in downstream preprocessing\n",
    "\n",
    "annot_dir = \"../../data/scATACseq_annotations/\"\n",
    "metadata_path = annot_dir+\"hubmap_htan_metadata_atac_and_rna_final.csv\""
   ]
  },
  {
   "cell_type": "code",
   "execution_count": 4,
   "id": "5f77b0a9",
   "metadata": {},
   "outputs": [],
   "source": [
    "meta = pd.read_csv(metadata_path).drop_duplicates(\"SampleNameOnly\")\n",
    "meta.set_index(\"SampleNameOnly\", inplace=True)\n",
    "\n",
    "file_to_celltype = {\"epithelial_celltypes_atac.tsv\":\"epithelial\", \"stromal_celltypes_atac.tsv\":\"stromal\", \"immune_celltypes_atac.tsv\":\"immune\"}\n",
    "all_annots = {}\n",
    "for filename, celltype in file_to_celltype.items():\n",
    "    temp_annot = pd.read_csv(annot_dir+filename, sep=\"\\t\")\n",
    "    temp_annot[\"sample\"] = [\"-\".join(x.split(\"-\")[:-1]) for x in temp_annot[\"Sample\"]]\n",
    "    temp_annot[\"sample\"] = [\"-\".join(x.split(\"-\")[:-1]) if \"-D\" in x else x for x in temp_annot[\"sample\"]]\n",
    "\n",
    "    all_samples = list(set(temp_annot[\"sample\"]))\n",
    "    for sample in all_samples:\n",
    "        if sample not in all_annots:\n",
    "            all_annots[sample] = {}\n",
    "        only_sample = temp_annot[temp_annot[\"sample\"]==sample]\n",
    "        all_annots[sample][celltype] = len(only_sample)\n",
    "\n",
    "sample_names = all_annots.keys()\n",
    "immune_frac = []\n",
    "stromal_frac = []\n",
    "epi_frac = []\n",
    "for sample in sample_names:\n",
    "    try:\n",
    "        epi = all_annots[sample][\"epithelial\"]\n",
    "    except KeyError:\n",
    "        epi = 0\n",
    "    try:\n",
    "        stromal = all_annots[sample][\"stromal\"]\n",
    "    except KeyError:\n",
    "        stromal = 0\n",
    "    try:\n",
    "        immune = all_annots[sample][\"immune\"]\n",
    "    except KeyError:\n",
    "        immune = 0\n",
    "    total = epi + stromal + immune\n",
    "    immune_frac.append(immune/total)\n",
    "    epi_frac.append(epi/total)\n",
    "    stromal_frac.append(stromal/total)\n",
    "sc_types = pd.DataFrame({\"immune\":immune_frac, \"stromal\":stromal_frac, \"epithelial\":epi_frac}, index=sample_names)\n",
    "sc_types[\"DiseaseState\"] = [meta.loc[x][\"DiseaseState\"] if x in meta.index else \"NONE\" for x in sc_types.index]\n",
    "\n",
    "polyp_kde = stats.gaussian_kde(sc_types[sc_types[\"DiseaseState\"]==\"Polyp\"][\"epithelial\"])\n",
    "unaffected_kde = stats.gaussian_kde(sc_types[sc_types[\"DiseaseState\"]==\"Unaffected\"][\"epithelial\"])\n",
    "adca_kde = stats.gaussian_kde(sc_types[sc_types[\"DiseaseState\"]==\"Adenocarcinoma\"][\"epithelial\"])\n",
    "\n",
    "polyp_discrete = polyp_kde.evaluate(np.linspace(0.01, 1, 100))\n",
    "polyp_discrete = polyp_discrete/np.sum(polyp_discrete)\n",
    "unaffected_discrete = unaffected_kde.evaluate(np.linspace(0.01, 1, 100))\n",
    "unaffected_discrete = unaffected_discrete/np.sum(unaffected_discrete)\n",
    "adca_discrete = adca_kde.evaluate(np.linspace(0.01, 1, 100))\n",
    "adca_discrete = adca_discrete/np.sum(adca_discrete)\n",
    "purity_dict = {\"Mucosa\":unaffected_discrete, \"Benign\":polyp_discrete, \"Dysplasia\":polyp_discrete, \"AdCa\":adca_discrete, \"Carcinoma\":adca_discrete, \"Adenoma\":polyp_discrete}"
   ]
  },
  {
   "cell_type": "code",
   "execution_count": 6,
   "id": "ef8e9dba",
   "metadata": {},
   "outputs": [
    {
     "data": {
      "text/plain": [
       "DiseaseState\n",
       "Polyp             48\n",
       "Unaffected        18\n",
       "Normal             8\n",
       "Adenocarcinoma     6\n",
       "Name: count, dtype: int64"
      ]
     },
     "execution_count": 6,
     "metadata": {},
     "output_type": "execute_result"
    }
   ],
   "source": [
    "sc_types.value_counts(\"DiseaseState\")"
   ]
  },
  {
   "cell_type": "code",
   "execution_count": 7,
   "id": "1e802254",
   "metadata": {},
   "outputs": [],
   "source": [
    "pickle.dump(purity_dict, open(annot_dir+\"scATAC_purities.p\", \"wb\"))\n",
    "sc_types.to_csv(annot_dir+\"scATAC_celltype_fracs.csv\")"
   ]
  },
  {
   "cell_type": "code",
   "execution_count": null,
   "id": "182a6a5f",
   "metadata": {},
   "outputs": [],
   "source": []
  }
 ],
 "metadata": {
  "kernelspec": {
   "display_name": "Python 3 (ipykernel)",
   "language": "python",
   "name": "python3"
  },
  "language_info": {
   "codemirror_mode": {
    "name": "ipython",
    "version": 3
   },
   "file_extension": ".py",
   "mimetype": "text/x-python",
   "name": "python",
   "nbconvert_exporter": "python",
   "pygments_lexer": "ipython3",
   "version": "3.9.12"
  }
 },
 "nbformat": 4,
 "nbformat_minor": 5
}
