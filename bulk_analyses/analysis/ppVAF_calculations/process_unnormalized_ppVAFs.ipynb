{
 "cells": [
  {
   "cell_type": "code",
   "execution_count": 1,
   "id": "6a5f1cec",
   "metadata": {},
   "outputs": [],
   "source": [
    "import pandas as pd\n",
    "import numpy as np\n",
    "import matplotlib.pyplot as plt\n",
    "import seaborn as sns\n",
    "from scipy import stats\n",
    "import pickle\n",
    "from ppVAF_utils import *\n",
    "\n",
    "#pd.options.mode.copy_on_write = True"
   ]
  },
  {
   "cell_type": "code",
   "execution_count": 2,
   "id": "05b109e4",
   "metadata": {},
   "outputs": [],
   "source": [
    "# THIS NOTEBOOK TAKES THE ppVAF POSTERIORS AND FILTERS AND ANNOTATES THE WGS AND WES MAFS WITH A COLUMN WITH ppVAF POINT ESTIMATES\n",
    "# It will probably require a lot of memory to run (>100GB)\n",
    "\n",
    "all_patients_to_process = [\"A001\", \"A002\", \"A015\", \"A014\", \"F001\", \"G001\"]\n",
    "\n",
    "# directory containing the .npy unnormalized ppVAF probabilities for WES and WGS data and per-patient maf files\n",
    "# calculated by calculate_ppVAF_posteriors.py, with filenames that are of the form [[PATIENT]][[WES_npy_postfix]]\n",
    "# and [[PATIENT]][[WES_maf_postfix]] for the WES data, respectively\n",
    "input_dir = \"\"\n",
    "#input_dir = \"/path/to/input/root/dir/\"\n",
    "\n",
    "WES_npy_postfix = \"_ppVAFgivenPurity_noprior_WES.npy\"\n",
    "WES_maf_postfix = \"_muts_WES.maf\"\n",
    "WGS_npy_postfix = \"_ppVAFgivenPurity_noprior_WGS.npy\"\n",
    "WGS_maf_postfix = \"_muts_WGS.maf\"\n",
    "\n",
    "# directory to save the new mafs with ppVAFs in a new \"ppVAF\" column\n",
    "# must mirror structure of the zenodo directory (have subdirectories \"wes\", \"wgs\", and \"wgs_wes\" in which data will be saved)\n",
    "# output files are inputs to most downstream plotting scripts and are provided in the zenodo distribution\n",
    "output_dir = input_dir + \"filtered_final/\"\n",
    "#output_dir = \"/path/to/output/root/dir/\""
   ]
  },
  {
   "cell_type": "code",
   "execution_count": 3,
   "id": "086f0861",
   "metadata": {},
   "outputs": [],
   "source": [
    "annot_dir = \"../../data/scATACseq_annotations/\"\n",
    "purity_dict = pickle.load(open(annot_dir+\"scATAC_purities.p\", \"rb\"))"
   ]
  },
  {
   "cell_type": "code",
   "execution_count": 4,
   "id": "207be114",
   "metadata": {},
   "outputs": [
    {
     "name": "stdout",
     "output_type": "stream",
     "text": [
      "A001\n"
     ]
    },
    {
     "name": "stderr",
     "output_type": "stream",
     "text": [
      "/oak/stanford/groups/ccurtis2/users/debra/FAP/py_notebooks/final_for_submission/analysis/ppVAF_calculations/ppVAF_utils.py:72: SettingWithCopyWarning: \n",
      "A value is trying to be set on a copy of a slice from a DataFrame.\n",
      "Try using .loc[row_indexer,col_indexer] = value instead\n",
      "\n",
      "See the caveats in the documentation: https://pandas.pydata.org/pandas-docs/stable/user_guide/indexing.html#returning-a-view-versus-a-copy\n",
      "  maf[ccf_col] = CCFs\n",
      "/oak/stanford/groups/ccurtis2/users/debra/FAP/py_notebooks/final_for_submission/analysis/ppVAF_calculations/ppVAF_utils.py:73: SettingWithCopyWarning: \n",
      "A value is trying to be set on a copy of a slice from a DataFrame.\n",
      "Try using .loc[row_indexer,col_indexer] = value instead\n",
      "\n",
      "See the caveats in the documentation: https://pandas.pydata.org/pandas-docs/stable/user_guide/indexing.html#returning-a-view-versus-a-copy\n",
      "  maf[bounds_prefix+\"_lower\"] = lower\n",
      "/oak/stanford/groups/ccurtis2/users/debra/FAP/py_notebooks/final_for_submission/analysis/ppVAF_calculations/ppVAF_utils.py:74: SettingWithCopyWarning: \n",
      "A value is trying to be set on a copy of a slice from a DataFrame.\n",
      "Try using .loc[row_indexer,col_indexer] = value instead\n",
      "\n",
      "See the caveats in the documentation: https://pandas.pydata.org/pandas-docs/stable/user_guide/indexing.html#returning-a-view-versus-a-copy\n",
      "  maf[bounds_prefix+\"_upper\"] = upper\n",
      "/oak/stanford/groups/ccurtis2/users/debra/FAP/py_notebooks/final_for_submission/analysis/ppVAF_calculations/ppVAF_utils.py:96: SettingWithCopyWarning: \n",
      "A value is trying to be set on a copy of a slice from a DataFrame.\n",
      "Try using .loc[row_indexer,col_indexer] = value instead\n",
      "\n",
      "See the caveats in the documentation: https://pandas.pydata.org/pandas-docs/stable/user_guide/indexing.html#returning-a-view-versus-a-copy\n",
      "  new_maf[\"clonal_cont_\"+str(clonal_threshold)] = probs_clonal\n",
      "/share/software/user/open/py-jupyter/1.0.0_py39/lib/python3.9/site-packages/IPython/core/interactiveshell.py:3441: DtypeWarning: Columns (87,88,90) have mixed types.Specify dtype option on import or set low_memory=False.\n",
      "  exec(code_obj, self.user_global_ns, self.user_ns)\n"
     ]
    },
    {
     "name": "stdout",
     "output_type": "stream",
     "text": [
      "A002\n",
      "A015\n"
     ]
    },
    {
     "name": "stderr",
     "output_type": "stream",
     "text": [
      "/share/software/user/open/py-jupyter/1.0.0_py39/lib/python3.9/site-packages/IPython/core/interactiveshell.py:3441: DtypeWarning: Columns (87) have mixed types.Specify dtype option on import or set low_memory=False.\n",
      "  exec(code_obj, self.user_global_ns, self.user_ns)\n"
     ]
    },
    {
     "name": "stdout",
     "output_type": "stream",
     "text": [
      "A014\n",
      "F001\n",
      "G001\n"
     ]
    }
   ],
   "source": [
    "thresholds = [0.6, 0.7, 0.8, 0.9, 0.95]\n",
    "\n",
    "for patient in all_patients_to_process:\n",
    "    print(patient)\n",
    "    prob_mat = np.load(input_dir+patient+WES_npy_postfix)\n",
    "    maf = pd.read_csv(input_dir+patient+WES_maf_postfix)\n",
    "    maf_save, marg = add_ppVAFs(prob_mat, maf, purity_dict, thresholds)\n",
    "    if maf_save is not None:\n",
    "        maf_save.to_csv(input_dir+patient+\"_muts_WES_ppVAFs.maf\", sep=\"\\t\", index=False)\n",
    "        extract_full_marginal(maf_save, marg, \"KRAS\").to_csv(output_dir+patient+\"_KRAS_marginals_WES.csv\", index=False)\n",
    "        extract_full_marginal(maf_save, marg, \"APC\").to_csv(output_dir+patient+\"_APC_marginals_WES.csv\", index=False)\n",
    "    \n",
    "    prob_mat = None\n",
    "    \n",
    "    prob_mat = np.load(input_dir+patient+WGS_npy_postfix)\n",
    "    maf = pd.read_csv(input_dir+patient+WGS_maf_postfix)\n",
    "    \n",
    "    maf_save, marg = add_ppVAFs(prob_mat, maf, purity_dict, thresholds)\n",
    "    if maf_save is not None:\n",
    "        maf_save.to_csv(input_dir+patient+\"_muts_WGS_ppVAFs.maf\", sep=\"\\t\", index=False)\n",
    "        extract_full_marginal(maf_save, marg, \"KRAS\").to_csv(output_dir+patient+\"_KRAS_marginals_WGS.csv\", index=False)\n",
    "        extract_full_marginal(maf_save, marg, \"APC\").to_csv(output_dir+patient+\"_APC_marginals_WGS.csv\", index=False)\n",
    "    \n",
    "    prob_mat = None"
   ]
  },
  {
   "cell_type": "code",
   "execution_count": 5,
   "id": "775f8edd",
   "metadata": {},
   "outputs": [],
   "source": [
    "combined_maf_WES = None\n",
    "for patient in all_patients_to_process:\n",
    "    try:\n",
    "        maf = pd.read_csv(input_dir+patient+\"_muts_WES_ppVAFs.maf\", sep=\"\\t\")\n",
    "        #print(len(maf))\n",
    "        if combined_maf_WES is None:\n",
    "            combined_maf_WES = maf\n",
    "        else:\n",
    "            combined_maf_WES = pd.concat([combined_maf_WES, maf])\n",
    "    except FileNotFoundError:\n",
    "        pass\n",
    "        \n",
    "combined_maf_WGS = None\n",
    "for patient in all_patients_to_process:\n",
    "    try:\n",
    "        maf = pd.read_csv(input_dir+patient+\"_muts_WGS_ppVAFs.maf\", sep=\"\\t\")\n",
    "        if combined_maf_WGS is None:\n",
    "            combined_maf_WGS = maf\n",
    "        else:\n",
    "            combined_maf_WGS = pd.concat([combined_maf_WGS, maf])\n",
    "    except FileNotFoundError:\n",
    "        pass\n",
    "\n",
    "combined_maf_WGS.to_csv(output_dir+\"HTAN_WGS_filtered_ppVAFs.maf\", index=False, sep=\"\\t\")\n",
    "combined_maf_WES.to_csv(output_dir+\"HTAN_WES_filtered_ppVAFs.maf\", index=False, sep=\"\\t\")"
   ]
  },
  {
   "cell_type": "code",
   "execution_count": 6,
   "id": "08473259",
   "metadata": {},
   "outputs": [],
   "source": [
    "maf_dir = \"/oak/stanford/groups/ccurtis2/users/rschenck/FAP_project/other_cohorts/\"\n",
    "\n",
    "# SPECIFY LOCATION OF MAF FILES FOR THE TWO EXTERNAL COHORTS (NOT PROVIDED)\n",
    "# This notebook computes ppVAFs for each mutation in these mafs using the scATAC data from our cohort\n",
    "# Those steps will take some time to run and will require a nontrivial amount of memory (64 GB is sufficient)\n",
    "Li_FAP_WES_loc = maf_dir+\"PKU/PKU_samples.consensus.filtered.mpileups_filtered.ccfs.ccfs_noprobs.maf\"\n",
    "PKU_maf = pd.read_csv(Li_FAP_WES_loc, sep=\"\\t\")\n",
    "PUTH_sample_to_stage = dict(zip(PKU_maf[\"Tumor_Sample_Barcode\"], PKU_maf[\"Stage\"]))\n",
    "PUTH_sample_to_stage['FAP4_LI_N1'] = \"Mucosa\"\n",
    "PUTH_sample_to_stage['FAP4_LI_N2'] = \"Mucosa\"\n",
    "\n",
    "Cross_sporadic_WES_loc = maf_dir+\"BCI/Sporadic.consensus.filtered.mpileups_filtered.ccfs.ccfs_noprobs.maf\"\n",
    "BCI_maf = pd.read_csv(Cross_sporadic_WES_loc, sep=\"\\t\")\n",
    "SCORT_sample_to_stage = dict(zip(BCI_maf[\"Tumor_Sample_Barcode\"], BCI_maf[\"Stage\"]))"
   ]
  },
  {
   "cell_type": "code",
   "execution_count": 7,
   "id": "490e8d42",
   "metadata": {},
   "outputs": [],
   "source": [
    "# EXTERNAL COHORTS IF YOU HAVE THEM (SCORT AND PUTH)\n",
    "\n",
    "prob_mat = np.load(input_dir+\"PUTH_ppVAFgivenPurity_noprior.npy\")\n",
    "maf = pd.read_csv(input_dir+\"PUTH_muts.maf\")\n",
    "maf[\"Stage\"] = [PUTH_sample_to_stage[x[5:]] for x in maf[\"Tumor_Sample_Barcode\"]]\n",
    "maf_save, marg = add_ppVAFs(prob_mat, maf, purity_dict, thresholds)\n",
    "maf_save.to_csv(output_dir+\"PUTH_filtered_ppVAFs.maf\", sep=\"\\t\", index=False)\n",
    "\n",
    "prob_mat = np.load(input_dir+\"SCORT_ppVAFgivenPurity_noprior.npy\")\n",
    "maf = pd.read_csv(input_dir+\"SCORT_muts.maf\")\n",
    "maf[\"Stage\"] = [SCORT_sample_to_stage[x[6:]] for x in maf[\"Tumor_Sample_Barcode\"]]\n",
    "maf_save, marg = add_ppVAFs(prob_mat, maf, purity_dict, thresholds)\n",
    "maf_save.to_csv(output_dir+\"SCORT_filtered_ppVAFs.maf\", sep=\"\\t\", index=False)"
   ]
  },
  {
   "cell_type": "code",
   "execution_count": null,
   "id": "855f52ab",
   "metadata": {},
   "outputs": [],
   "source": []
  }
 ],
 "metadata": {
  "kernelspec": {
   "display_name": "Python 3 (ipykernel)",
   "language": "python",
   "name": "python3"
  },
  "language_info": {
   "codemirror_mode": {
    "name": "ipython",
    "version": 3
   },
   "file_extension": ".py",
   "mimetype": "text/x-python",
   "name": "python",
   "nbconvert_exporter": "python",
   "pygments_lexer": "ipython3",
   "version": "3.9.0"
  }
 },
 "nbformat": 4,
 "nbformat_minor": 5
}
