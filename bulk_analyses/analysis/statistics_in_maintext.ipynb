{
 "cells": [
  {
   "cell_type": "code",
   "execution_count": 1,
   "id": "608f39de",
   "metadata": {},
   "outputs": [],
   "source": [
    "import pandas as pd\n",
    "import numpy as np\n",
    "import matplotlib.pyplot as plt\n",
    "import seaborn as sns"
   ]
  },
  {
   "cell_type": "code",
   "execution_count": 2,
   "id": "ca8019c1",
   "metadata": {},
   "outputs": [],
   "source": [
    "# root directory where processed mutation data are stored\n",
    "# if using the zenodo data, this should point to the location of the base zenodo directory \n",
    "data_dir = \"\"\n",
    "\n",
    "# directory where the simulation data and table with clonal counts and polyclonal calls are saved\n",
    "# defaults to path in repo relative to current WD\n",
    "output_dir = \"../data/clonal_count_estimation/\"\n",
    "\n",
    "# paths to gene-level copy number calls for WGS dataset (HTAN_WGS_gene_CNs.tsv and HTAN_WES_gene_CNs.tsv)\n",
    "WGS_CN_loc = \"../data/copy_number/gene_CN_calls/HTAN_WGS_gene_CNs.tsv\"\n",
    "WES_CN_loc = \"../data/copy_number/gene_CN_calls/HTAN_WES_gene_CNs.tsv\"\n",
    "\n",
    "# path to driver gene list\n",
    "driver_loc = \"../data/resource/PanCanDrivers_Cell2018.csv\"\n",
    "\n",
    "# path to CN info\n",
    "CN_dir = \"../data/copy_number/\""
   ]
  },
  {
   "cell_type": "code",
   "execution_count": 3,
   "id": "50201268",
   "metadata": {},
   "outputs": [],
   "source": [
    "driver_list = pd.read_csv(driver_loc, skiprows=3)\n",
    "coad_drivers = driver_list[driver_list[\"Cancer\"]==\"COADREAD\"]\n",
    "WGD_loc = CN_dir+\"genome_doubling/HTAN_WGS_doubled.tsv\"\n",
    "WGD_info = pd.read_csv(WGD_loc, sep=\"\\t\", index_col=0)\n",
    "WGD_loc = CN_dir+\"genome_doubling/HTAN_WES_doubled.tsv\"\n",
    "WGD_info_WES = pd.read_csv(WGD_loc, sep=\"\\t\", index_col=0)\n",
    "WGD_info_WES.drop(list(set(WGD_info_WES.index).intersection(set(WGD_info.index))), inplace=True)\n",
    "WGD_info = pd.concat([WGD_info, WGD_info_WES])"
   ]
  },
  {
   "cell_type": "code",
   "execution_count": 4,
   "id": "37cb78da",
   "metadata": {},
   "outputs": [
    {
     "name": "stderr",
     "output_type": "stream",
     "text": [
      "/local/scratch/dve/slrmtmp.48472381/ipykernel_45747/396633184.py:2: DtypeWarning: Columns (85,87,88,90) have mixed types. Specify dtype option on import or set low_memory=False.\n",
      "  WGS_maf = pd.read_csv(data_dir+\"HTAN_WGS_filtered_ppVAFs.maf\", sep=\"\\t\")\n"
     ]
    }
   ],
   "source": [
    "clonal_calls = pd.read_csv(output_dir+\"clonal_SNVs_WES_WGS.csv\", index_col=0)\n",
    "WGS_maf = pd.read_csv(data_dir+\"HTAN_WGS_filtered_ppVAFs.maf\", sep=\"\\t\")\n",
    "WES_maf = pd.read_csv(data_dir+\"HTAN_WES_filtered_ppVAFs.maf\", sep=\"\\t\")\n",
    "WES_maf = WES_maf[~np.isin(WES_maf[\"Tumor_Sample_Barcode\"], list(set(WGS_maf[\"Tumor_Sample_Barcode\"])))]\n",
    "combined_maf = pd.concat([WGS_maf, WES_maf])\n",
    "clonal_WGS = clonal_calls[clonal_calls[\"has_WGS\"]]\n",
    "CN_calls = pd.read_csv(WGS_CN_loc, sep=\"\\t\")\n",
    "WES_CNs = pd.read_csv(WES_CN_loc, sep=\"\\t\")\n",
    "WES_CNs = WES_CNs[~np.isin(WES_CNs[\"sample_id\"], list(set(CN_calls[\"sample_id\"])))]\n",
    "CN_calls = pd.concat([WES_CNs, CN_calls])"
   ]
  },
  {
   "cell_type": "code",
   "execution_count": 5,
   "id": "2a4145ea",
   "metadata": {},
   "outputs": [
    {
     "name": "stdout",
     "output_type": "stream",
     "text": [
      "Fraction of benign polyps that are polyclonal: 0.4\n",
      "Fraction of dysplastic polyps that are polyclonal: 0.2777777777777778\n"
     ]
    }
   ],
   "source": [
    "frac_benign_poly = clonal_WGS[clonal_WGS[\"stage\"]==\"Benign\"].value_counts(\"is_poly\", normalize=True)\n",
    "print(\"Fraction of benign polyps that are polyclonal:\", frac_benign_poly.loc[True])\n",
    "\n",
    "frac_dys_poly = clonal_WGS[clonal_WGS[\"stage\"]==\"Dysplasia\"].value_counts(\"is_poly\", normalize=True)\n",
    "print(\"Fraction of dysplastic polyps that are polyclonal:\", frac_dys_poly.loc[True])"
   ]
  },
  {
   "cell_type": "code",
   "execution_count": 6,
   "id": "be984bd1",
   "metadata": {},
   "outputs": [],
   "source": [
    "only_drivers = combined_maf[combined_maf[\"Driver\"]]\n",
    "only_APC_drivers = only_drivers[only_drivers[\"Hugo_Symbol\"]==\"APC\"]\n",
    "only_KRAS_drivers = only_drivers[only_drivers[\"Hugo_Symbol\"]==\"KRAS\"]\n",
    "\n",
    "CN_drivers = CN_calls[np.isin(CN_calls[\"gene_name\"], coad_drivers[\"Gene\"])]\n",
    "CN_drivers = CN_drivers[np.logical_or(CN_drivers[\"CN_call\"] != \"NORMAL\", CN_drivers[\"LOH_call\"]=='LOH')]\n",
    "CN_drivers = CN_drivers[~np.isin(CN_drivers[\"sample_id\"], WGD_info[WGD_info[\"genome_doubled\"]].index)]\n",
    "CN_drivers = CN_drivers[CN_drivers[\"gene_chrom\"] != \"chrX\"]\n",
    "APC_CN = CN_drivers[np.logical_and(CN_drivers[\"gene_name\"]==\"APC\", CN_drivers[\"LOH_call\"]=='LOH')]\n",
    "\n",
    "total_driver_set = list(set(only_drivers[\"Tumor_Sample_Barcode\"]).union(set(CN_drivers[\"sample_id\"])))\n",
    "APC_driver_set = list(set(only_APC_drivers[\"Tumor_Sample_Barcode\"]).union(set(APC_CN[\"sample_id\"])))\n",
    "clonal_calls[\"has_driver\"] = [x in total_driver_set for x in clonal_calls.index]\n",
    "clonal_calls[\"has_APC_driver\"] = [x in APC_driver_set for x in clonal_calls.index]\n",
    "clonal_calls[\"has_KRAS_driver\"] = [x in list(set(only_KRAS_drivers[\"Tumor_Sample_Barcode\"])) for x in clonal_calls.index]\n",
    "clonal_calls[\"has_both_drivers\"] = np.logical_and(clonal_calls[\"has_APC_driver\"], clonal_calls[\"has_KRAS_driver\"])\n"
   ]
  },
  {
   "cell_type": "code",
   "execution_count": 7,
   "id": "a3cfe016",
   "metadata": {
    "scrolled": true
   },
   "outputs": [
    {
     "name": "stdout",
     "output_type": "stream",
     "text": [
      "Fraction of normal samples that have a driver: 0.10344827586206896\n",
      "Fraction of benign polyps that have a driver: 0.9142857142857143\n",
      "Fraction of dysplastic polyps that have a driver: 0.9473684210526315\n"
     ]
    }
   ],
   "source": [
    "frac_mucosa_driver = clonal_calls[clonal_calls[\"stage\"]==\"Mucosa\"].value_counts(\"has_driver\", normalize=True)\n",
    "print(\"Fraction of normal samples that have a driver:\", frac_mucosa_driver.loc[True])\n",
    "frac_benign_driver = clonal_calls[clonal_calls[\"stage\"]==\"Benign\"].value_counts(\"has_driver\", normalize=True)\n",
    "print(\"Fraction of benign polyps that have a driver:\", frac_benign_driver.loc[True])\n",
    "frac_dys_driver = clonal_calls[clonal_calls[\"stage\"]==\"Dysplasia\"].value_counts(\"has_driver\", normalize=True)\n",
    "print(\"Fraction of dysplastic polyps that have a driver:\", frac_dys_driver.loc[True])\n"
   ]
  },
  {
   "cell_type": "code",
   "execution_count": 8,
   "id": "03f66f30",
   "metadata": {},
   "outputs": [
    {
     "name": "stdout",
     "output_type": "stream",
     "text": [
      "Fraction of normal samples that have a driver in APC: 0.06896551724137931\n",
      "Fraction of benign polyps that have a driver in APC: 0.8285714285714286\n",
      "Fraction of dysplastic polyps that have a driver in APC: 0.8245614035087719\n"
     ]
    }
   ],
   "source": [
    "frac_mucosa_APC = clonal_calls[clonal_calls[\"stage\"]==\"Mucosa\"].value_counts(\"has_APC_driver\", normalize=True)\n",
    "print(\"Fraction of normal samples that have a driver in APC:\", frac_mucosa_APC.loc[True])\n",
    "frac_benign_APC = clonal_calls[clonal_calls[\"stage\"]==\"Benign\"].value_counts(\"has_APC_driver\", normalize=True)\n",
    "print(\"Fraction of benign polyps that have a driver in APC:\", frac_benign_APC.loc[True])\n",
    "frac_dys_APC = clonal_calls[clonal_calls[\"stage\"]==\"Dysplasia\"].value_counts(\"has_APC_driver\", normalize=True)\n",
    "print(\"Fraction of dysplastic polyps that have a driver in APC:\", frac_dys_APC.loc[True])\n"
   ]
  },
  {
   "cell_type": "code",
   "execution_count": 9,
   "id": "6c837479",
   "metadata": {},
   "outputs": [
    {
     "name": "stdout",
     "output_type": "stream",
     "text": [
      "Fraction of normal samples that have a driver in APC and KRAS: 0\n",
      "Fraction of benign polyps that have a driver in APC and KRAS: 0.17142857142857143\n",
      "Fraction of dysplastic polyps that have a driver in APC and KRAS: 0.3508771929824561\n"
     ]
    }
   ],
   "source": [
    "frac_mucosa_APC_KRAS = clonal_calls[clonal_calls[\"stage\"]==\"Mucosa\"].value_counts(\"has_both_drivers\", normalize=True)\n",
    "try:\n",
    "    print(\"Fraction of normal samples that have a driver in APC and KRAS:\", frac_mucosa_APC_KRAS.loc[True])\n",
    "except KeyError:\n",
    "    print(\"Fraction of normal samples that have a driver in APC and KRAS: 0\")\n",
    "frac_benign_APC_KRAS = clonal_calls[clonal_calls[\"stage\"]==\"Benign\"].value_counts(\"has_both_drivers\", normalize=True)\n",
    "print(\"Fraction of benign polyps that have a driver in APC and KRAS:\", frac_benign_APC_KRAS.loc[True])\n",
    "frac_dys_APC_KRAS = clonal_calls[clonal_calls[\"stage\"]==\"Dysplasia\"].value_counts(\"has_both_drivers\", normalize=True)\n",
    "print(\"Fraction of dysplastic polyps that have a driver in APC and KRAS:\", frac_dys_APC_KRAS.loc[True])"
   ]
  },
  {
   "cell_type": "code",
   "execution_count": 10,
   "id": "92e11425",
   "metadata": {},
   "outputs": [
    {
     "name": "stdout",
     "output_type": "stream",
     "text": [
      "Maximum number of clonal SNVs in mucosa: 14.0\n"
     ]
    }
   ],
   "source": [
    "max_mucosal_clonal_SNVs = np.max(clonal_WGS[clonal_WGS[\"stage\"]==\"Mucosa\"][\"final_clonal_WGS\"])\n",
    "print(\"Maximum number of clonal SNVs in mucosa:\", max_mucosal_clonal_SNVs)"
   ]
  },
  {
   "cell_type": "code",
   "execution_count": 11,
   "id": "f382cb9c",
   "metadata": {},
   "outputs": [
    {
     "name": "stdout",
     "output_type": "stream",
     "text": [
      "Maximum number of clonal SNVs in polyps: 3882.0\n"
     ]
    }
   ],
   "source": [
    "polyp_clonals = clonal_WGS[np.isin(clonal_WGS[\"stage\"], [\"Benign\", \"Dysplasia\"])][\"final_clonal_WGS\"]\n",
    "max_polyp_clonal_SNVs = np.max(polyp_clonals)\n",
    "print(\"Maximum number of clonal SNVs in polyps:\", max_polyp_clonal_SNVs)"
   ]
  },
  {
   "cell_type": "code",
   "execution_count": 12,
   "id": "6958a172",
   "metadata": {},
   "outputs": [
    {
     "data": {
      "text/html": [
       "<div>\n",
       "<style scoped>\n",
       "    .dataframe tbody tr th:only-of-type {\n",
       "        vertical-align: middle;\n",
       "    }\n",
       "\n",
       "    .dataframe tbody tr th {\n",
       "        vertical-align: top;\n",
       "    }\n",
       "\n",
       "    .dataframe thead th {\n",
       "        text-align: right;\n",
       "    }\n",
       "</style>\n",
       "<table border=\"1\" class=\"dataframe\">\n",
       "  <thead>\n",
       "    <tr style=\"text-align: right;\">\n",
       "      <th></th>\n",
       "      <th>FGA</th>\n",
       "    </tr>\n",
       "    <tr>\n",
       "      <th>stage</th>\n",
       "      <th></th>\n",
       "    </tr>\n",
       "  </thead>\n",
       "  <tbody>\n",
       "    <tr>\n",
       "      <th>AdCa</th>\n",
       "      <td>0.478773</td>\n",
       "    </tr>\n",
       "    <tr>\n",
       "      <th>Benign</th>\n",
       "      <td>0.003292</td>\n",
       "    </tr>\n",
       "    <tr>\n",
       "      <th>Dysplasia</th>\n",
       "      <td>0.030699</td>\n",
       "    </tr>\n",
       "    <tr>\n",
       "      <th>Mucosa</th>\n",
       "      <td>0.000000</td>\n",
       "    </tr>\n",
       "  </tbody>\n",
       "</table>\n",
       "</div>"
      ],
      "text/plain": [
       "                FGA\n",
       "stage              \n",
       "AdCa       0.478773\n",
       "Benign     0.003292\n",
       "Dysplasia  0.030699\n",
       "Mucosa     0.000000"
      ]
     },
     "execution_count": 12,
     "metadata": {},
     "output_type": "execute_result"
    }
   ],
   "source": [
    "FGA_dir = CN_dir+\"fraction_genome_altered/\"\n",
    "HTAN_FGA = pd.read_csv(FGA_dir+\"HTAN_FGA_combined.csv\")\n",
    "HTAN_FGA[[\"stage\",\"FGA\"]].groupby(\"stage\").median()"
   ]
  },
  {
   "cell_type": "code",
   "execution_count": null,
   "id": "29ac0541-48d3-4104-8795-ced1a366693b",
   "metadata": {},
   "outputs": [],
   "source": []
  }
 ],
 "metadata": {
  "kernelspec": {
   "display_name": "Python 3 (ipykernel)",
   "language": "python",
   "name": "python3"
  },
  "language_info": {
   "codemirror_mode": {
    "name": "ipython",
    "version": 3
   },
   "file_extension": ".py",
   "mimetype": "text/x-python",
   "name": "python",
   "nbconvert_exporter": "python",
   "pygments_lexer": "ipython3",
   "version": "3.9.12"
  }
 },
 "nbformat": 4,
 "nbformat_minor": 5
}
