{
 "cells": [
  {
   "cell_type": "markdown",
   "id": "6d4fd9b4",
   "metadata": {},
   "source": [
    "## Setup"
   ]
  },
  {
   "cell_type": "code",
   "execution_count": null,
   "id": "ba3fa247",
   "metadata": {},
   "outputs": [],
   "source": [
    "vaf_thres = 0.20"
   ]
  },
  {
   "cell_type": "code",
   "execution_count": null,
   "id": "a54e5867",
   "metadata": {},
   "outputs": [],
   "source": [
    "import pandas as pd\n",
    "import seaborn as sns\n",
    "from tqdm import tqdm\n",
    "from sgutils import (\n",
    "    data_factory, SampleSet,\n",
    "    apply_filters, polyp_factory,\n",
    "    fit_models_for_sample, plot_clones\n",
    ")"
   ]
  },
  {
   "cell_type": "markdown",
   "id": "cfe49d08",
   "metadata": {},
   "source": [
    "## FAP03_P2"
   ]
  },
  {
   "cell_type": "code",
   "execution_count": null,
   "id": "82ce2005",
   "metadata": {},
   "outputs": [],
   "source": [
    "tbl = data_factory(\"full\")\n",
    "query = \"FAP03_P2\"\n",
    "prefixes, col_prefixes, colors = polyp_factory(query, with_normal=False)\n",
    "store = SampleSet(apply_filters(tbl, vaf_thres=vaf_thres), prefixes)\n",
    "store.set_colordict(col_prefixes, colors)"
   ]
  },
  {
   "cell_type": "code",
   "execution_count": null,
   "id": "e13c78cd",
   "metadata": {},
   "outputs": [],
   "source": [
    "model_results = {}\n",
    "for name, data in tqdm(store.sample_df.groupby(\"Tumor_Sample_Barcode\")):\n",
    "    model_results[name] = fit_models_for_sample(data)\n",
    "\n",
    "pd.DataFrame(model_results).to_json(f\"output/{query}_model_results_vaf-{vaf_thres}.json\")"
   ]
  },
  {
   "cell_type": "code",
   "execution_count": null,
   "id": "da5c347c",
   "metadata": {},
   "outputs": [],
   "source": [
    "# for name, data in store.sample_df.groupby(\"Tumor_Sample_Barcode\"):\n",
    "#     plot_clones(data, model_results[name], name)"
   ]
  },
  {
   "cell_type": "markdown",
   "id": "fc565f3d",
   "metadata": {},
   "source": [
    "## FAP03"
   ]
  },
  {
   "cell_type": "code",
   "execution_count": null,
   "id": "d7b8a829",
   "metadata": {},
   "outputs": [],
   "source": [
    "query = \"FAP03\"\n",
    "store = SampleSet(apply_filters(data_factory(\"03full\"), vaf_thres=vaf_thres), query)\n",
    "col_prefixes = (\"FAP03_N\", \"FAP03_P1\", \"FAP03_P2\", \"FAP03_P4\", \"FAP03_P5\")\n",
    "colors = tuple('#{:02x}{:02x}{:02x}'.format(*map(lambda x: int(x * 255), color)) for color in sns.color_palette())\n",
    "store.set_colordict(col_prefixes, colors)"
   ]
  },
  {
   "cell_type": "code",
   "execution_count": null,
   "id": "1b901397",
   "metadata": {},
   "outputs": [],
   "source": [
    "model_results = {}\n",
    "for name, data in tqdm(store.sample_df.groupby(\"Tumor_Sample_Barcode\")):\n",
    "    model_results[name] = fit_models_for_sample(data)\n",
    "\n",
    "pd.DataFrame(model_results).to_json(f\"output/{query}_model_results_vaf-{vaf_thres}.json\")"
   ]
  },
  {
   "cell_type": "code",
   "execution_count": null,
   "id": "cdba5771",
   "metadata": {},
   "outputs": [],
   "source": [
    "# for name, data in store.sample_df.groupby(\"Tumor_Sample_Barcode\"):\n",
    "#     plot_clones(data, model_results[name], name)"
   ]
  },
  {
   "cell_type": "markdown",
   "id": "8b190c86",
   "metadata": {},
   "source": [
    "## FAP01"
   ]
  },
  {
   "cell_type": "code",
   "execution_count": null,
   "id": "292de238",
   "metadata": {},
   "outputs": [],
   "source": [
    "query = \"FAP01\"\n",
    "store = SampleSet(apply_filters(data_factory(\"01full\"), vaf_thres=vaf_thres), query)\n",
    "col_prefixes = (\"FAP01_N\", \"FAP01_P1\", \"FAP01_P2\", \"FAP01_P4\", \"FAP01_P5\", \"FAP01_P6\", \"FAP01_T2\", \"FAP01_T3\")\n",
    "colors = tuple('#{:02x}{:02x}{:02x}'.format(*map(lambda x: int(x * 255), color)) for color in sns.color_palette())\n",
    "store.set_colordict(col_prefixes, colors)"
   ]
  },
  {
   "cell_type": "code",
   "execution_count": null,
   "id": "5dbeada6",
   "metadata": {},
   "outputs": [],
   "source": [
    "model_results = {}\n",
    "for name, data in tqdm(store.sample_df.groupby(\"Tumor_Sample_Barcode\")):\n",
    "    model_results[name] = fit_models_for_sample(data)\n",
    "\n",
    "pd.DataFrame(model_results).to_json(f\"output/{query}_model_results_vaf-{vaf_thres}.json\")"
   ]
  },
  {
   "cell_type": "code",
   "execution_count": null,
   "id": "23403626",
   "metadata": {},
   "outputs": [],
   "source": [
    "# for name, data in store.sample_df.groupby(\"Tumor_Sample_Barcode\"):\n",
    "#     plot_clones(data, model_results[name], name)"
   ]
  }
 ],
 "metadata": {
  "kernelspec": {
   "display_name": "venv",
   "language": "python",
   "name": "python3"
  },
  "language_info": {
   "codemirror_mode": {
    "name": "ipython",
    "version": 3
   },
   "file_extension": ".py",
   "mimetype": "text/x-python",
   "name": "python",
   "nbconvert_exporter": "python",
   "pygments_lexer": "ipython3",
   "version": "3.12.11"
  }
 },
 "nbformat": 4,
 "nbformat_minor": 5
}
