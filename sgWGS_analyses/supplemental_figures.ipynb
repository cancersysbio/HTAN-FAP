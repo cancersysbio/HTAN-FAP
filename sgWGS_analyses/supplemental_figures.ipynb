{
  "cells": [
    {
      "cell_type": "markdown",
      "metadata": {
        "vscode": {
          "languageId": "raw"
        }
      },
      "source": [
        "## Setup and Imports\n"
      ]
    },
    {
      "cell_type": "code",
      "execution_count": null,
      "metadata": {},
      "outputs": [],
      "source": [
        "import numpy as np\n",
        "import pandas as pd\n",
        "import matplotlib.pyplot as plt\n",
        "import seaborn as sns\n",
        "from tqdm import tqdm\n",
        "import json\n",
        "from pathlib import Path\n",
        "\n",
        "from sgutils import (\n",
        "    data_factory, SampleSet, size_filter, apply_filters,\n",
        "    get_all_queries,\n",
        "    plot_mixture_model, COLUMN_NAMES\n",
        ")\n",
        "\n",
        "# Set up plotting\n",
        "plt.style.use('seaborn-v0_8')\n",
        "sns.set_context('notebook')\n",
        "plt.rcParams['figure.dpi'] = 150\n",
        "%config InlineBackend.figure_format = 'retina'\n",
        "\n",
        "# Analysis parameters\n",
        "vaf_thres = 0.2\n",
        "print(f\"VAF threshold: {vaf_thres}\")\n",
        "\n",
        "# Get all lesion names\n",
        "all_lesions = get_all_queries()\n",
        "print(f\"Found {len(all_lesions)} lesions: {all_lesions}\")\n"
      ]
    },
    {
      "cell_type": "markdown",
      "metadata": {
        "vscode": {
          "languageId": "raw"
        }
      },
      "source": [
        "## Function Definitions\n"
      ]
    },
    {
      "cell_type": "code",
      "execution_count": null,
      "metadata": {},
      "outputs": [],
      "source": [
        "def create_sample_set(lesion_name):\n",
        "    \"\"\"Create a SampleSet for a specific lesion.\"\"\"\n",
        "    full_data = data_factory(\"full\")\n",
        "    return SampleSet(full_data, lesion_name)\n",
        "\n",
        "def get_lesion_data(sample_set, apply_size_filter=True, apply_vaf_filter=False, vaf_thres=0.2):\n",
        "    \"\"\"Get filtered data for a lesion.\"\"\"\n",
        "    data = sample_set.sample_df.copy()\n",
        "    \n",
        "    if apply_size_filter:\n",
        "        data = size_filter(data)\n",
        "    \n",
        "    if apply_vaf_filter:\n",
        "        data = apply_filters(data, vaf_thres=vaf_thres)\n",
        "    \n",
        "    return data\n",
        "\n",
        "def plot_vaf_histogram(data, title, ax, bins=50, alpha=0.7):\n",
        "    \"\"\"Plot VAF histogram for a sample.\"\"\"\n",
        "    vafs = data[COLUMN_NAMES['vaf']]\n",
        "    ax.hist(vafs, bins=bins, alpha=alpha, density=True, edgecolor='black', linewidth=0.5)\n",
        "    ax.set_xlabel('VAF')\n",
        "    ax.set_ylabel('Density')\n",
        "    ax.set_title(title)\n",
        "    ax.grid(True, alpha=0.3)\n",
        "    \n",
        "    # Add statistics\n",
        "    mean_vaf = vafs.mean()\n",
        "    median_vaf = vafs.median()\n",
        "    n_variants = len(vafs)\n",
        "    \n",
        "    stats_text = f'n={n_variants}\\nMean: {mean_vaf:.3f}\\nMedian: {median_vaf:.3f}'\n",
        "    ax.text(0.7, 0.8, stats_text, transform=ax.transAxes, \n",
        "            bbox=dict(boxstyle='round', facecolor='white', alpha=0.8),\n",
        "            verticalalignment='top')\n",
        "\n",
        "def plot_coverage_histogram(data, title, ax, bins=50, alpha=0.7):\n",
        "    \"\"\"Plot coverage histogram for a sample.\"\"\"\n",
        "    coverage = data[COLUMN_NAMES['total_depth']]\n",
        "    ax.hist(coverage, bins=bins, alpha=alpha, edgecolor='black', linewidth=0.5)\n",
        "    ax.set_xlabel('Total Depth')\n",
        "    ax.set_ylabel('Count')\n",
        "    ax.set_title(title)\n",
        "    ax.grid(True, alpha=0.3)\n",
        "    \n",
        "    # Add statistics\n",
        "    mean_cov = coverage.mean()\n",
        "    median_cov = coverage.median()\n",
        "    n_variants = len(coverage)\n",
        "    \n",
        "    stats_text = f'n={n_variants}\\nMean: {mean_cov:.1f}x\\nMedian: {median_cov:.1f}x'\n",
        "    ax.text(0.7, 0.8, stats_text, transform=ax.transAxes, \n",
        "            bbox=dict(boxstyle='round', facecolor='white', alpha=0.8),\n",
        "            verticalalignment='top')\n",
        "\n",
        "def plot_vaf_with_model(data, model_params, title, ax):\n",
        "    \"\"\"Plot VAF histogram with truncated binomial mixture model overlay.\"\"\"\n",
        "    k = data[COLUMN_NAMES['alt_depth']].to_numpy()\n",
        "    n = data[COLUMN_NAMES['total_depth']].to_numpy()\n",
        "    \n",
        "    # Use the truncated model from the model results\n",
        "    truncated_model = model_params['truncated_model'].copy()\n",
        "    truncated_model['variants_per_component'] = model_params['truncated_variants_per_component']\n",
        "    \n",
        "    # Plot using the existing function\n",
        "    plot_mixture_model(k, n, truncated_model, ax=ax)\n",
        "    \n",
        "    # Update title with clonality information\n",
        "    clonality_status = \"Clonal\" if model_params['is_clonal_truncated'] else \"Non-clonal\"\n",
        "    dominant_vaf = model_params['dominant_vaf_truncated']\n",
        "    full_title = f\"{title}\\n{clonality_status}, Dominant VAF: {dominant_vaf:.3f}\"\n",
        "    ax.set_title(full_title)\n",
        "\n",
        "def load_model_results(vaf_thres):\n",
        "    \"\"\"Load model results for the given VAF threshold.\"\"\"\n",
        "    model_results = {}\n",
        "    patients = ['FAP01', 'FAP03']\n",
        "    \n",
        "    for patient in patients:\n",
        "        json_file = f\"output/{patient}_model_results_vaf-{vaf_thres}.json\"\n",
        "        if Path(json_file).exists():\n",
        "            with open(json_file, 'r') as f:\n",
        "                patient_results = json.load(f)\n",
        "                model_results.update(patient_results)\n",
        "        else:\n",
        "            print(f\"Warning: {json_file} not found. Model overlays will be skipped.\")\n",
        "    \n",
        "    return model_results\n",
        "\n",
        "def get_samples_for_lesion(lesion_sample_set):\n",
        "    \"\"\"Get unique samples for a lesion, sorted alphabetically.\"\"\"\n",
        "    return sorted(lesion_sample_set.sample_df[COLUMN_NAMES['sample_id']].unique().tolist())\n"
      ]
    },
    {
      "cell_type": "code",
      "execution_count": null,
      "metadata": {},
      "outputs": [],
      "source": [
        "def plot_raw_vaf_for_sample(sample_name, ax, lesion_data):\n",
        "    \"\"\"Plot raw VAF histogram for a sample within a lesion.\"\"\"\n",
        "    sample_data = lesion_data[lesion_data[COLUMN_NAMES['sample_id']] == sample_name]\n",
        "    if len(sample_data) > 0:\n",
        "        plot_vaf_histogram(sample_data, sample_name, ax)\n",
        "    else:\n",
        "        ax.text(0.5, 0.5, 'No data', ha='center', va='center', transform=ax.transAxes)\n",
        "        ax.set_title(sample_name)\n",
        "\n",
        "def plot_filtered_vaf_for_sample(sample_name, ax, lesion_data, model_results=None):\n",
        "    \"\"\"Plot filtered VAF histogram for a sample with optional model overlay.\"\"\"\n",
        "    sample_data = lesion_data[lesion_data[COLUMN_NAMES['sample_id']] == sample_name]\n",
        "    if len(sample_data) > 0 and model_results and sample_name in model_results:\n",
        "        plot_vaf_with_model(sample_data, model_results[sample_name], sample_name, ax)\n",
        "        # Color title based on clonality\n",
        "        title_color = 'green' if model_results[sample_name]['is_clonal_truncated'] else 'red'\n",
        "        ax.title.set_color(title_color)\n",
        "    elif len(sample_data) > 0:\n",
        "        plot_vaf_histogram(sample_data, sample_name, ax)\n",
        "    else:\n",
        "        ax.text(0.5, 0.5, 'No data', ha='center', va='center', transform=ax.transAxes)\n",
        "        ax.set_title(sample_name)\n",
        "\n",
        "def plot_coverage_for_sample(sample_name, ax, lesion_data, model_results=None):\n",
        "    \"\"\"Plot coverage histogram for a sample.\"\"\"\n",
        "    sample_data = lesion_data[lesion_data[COLUMN_NAMES['sample_id']] == sample_name]\n",
        "    if len(sample_data) > 0:\n",
        "        # Create base title\n",
        "        title = sample_name\n",
        "        title_color = 'black'\n",
        "        \n",
        "        # Add pass/fail annotation if model results available\n",
        "        if model_results and sample_name in model_results:\n",
        "            status = \"Passed\" if model_results[sample_name]['is_clonal_truncated'] else \"Failed\"\n",
        "            title = f\"{sample_name} - {status}\"\n",
        "            title_color = 'green' if status == \"Passed\" else 'red'\n",
        "        \n",
        "        plot_coverage_histogram(sample_data, title, ax)\n",
        "        ax.set_title(title, color=title_color)\n",
        "    else:\n",
        "        ax.text(0.5, 0.5, 'No data', ha='center', va='center', transform=ax.transAxes)\n",
        "        ax.set_title(sample_name)\n"
      ]
    },
    {
      "cell_type": "code",
      "execution_count": null,
      "metadata": {},
      "outputs": [],
      "source": [
        "def create_faceted_plot_for_lesion(samples, plot_func, lesion_name, save_filename=None, samples_per_row=5, figsize_per_subplot=(5, 4)):\n",
        "    \"\"\"Create a faceted plot for samples within a single lesion.\"\"\"\n",
        "    n_samples = len(samples)\n",
        "    if n_samples == 0:\n",
        "        print(f\"No samples found for {lesion_name}\")\n",
        "        return\n",
        "        \n",
        "    n_rows = (n_samples + samples_per_row - 1) // samples_per_row\n",
        "    n_cols = min(n_samples, samples_per_row)\n",
        "    \n",
        "    fig, axes = plt.subplots(n_rows, n_cols, \n",
        "                           figsize=(figsize_per_subplot[0]*n_cols, figsize_per_subplot[1]*n_rows))\n",
        "    \n",
        "    # Handle single subplot case\n",
        "    if n_rows == 1 and n_cols == 1:\n",
        "        axes = np.array([[axes]])\n",
        "    elif n_rows == 1:\n",
        "        axes = axes.reshape(1, -1)\n",
        "    elif n_cols == 1:\n",
        "        axes = axes.reshape(-1, 1)\n",
        "    \n",
        "    # Plot each sample\n",
        "    for i, sample in enumerate(samples):\n",
        "        row = i // samples_per_row\n",
        "        col = i % samples_per_row\n",
        "        plot_func(sample, axes[row, col])\n",
        "    \n",
        "    # Hide empty subplots\n",
        "    for i in range(n_samples, n_rows * n_cols):\n",
        "        row = i // samples_per_row\n",
        "        col = i % samples_per_row\n",
        "        axes[row, col].set_visible(False)\n",
        "    \n",
        "    # Use tight_layout first, then add suptitle with less vertical offset to reduce whitespace\n",
        "    plt.tight_layout()\n",
        "    plt.suptitle(lesion_name, fontsize=16, y=1.01)\n",
        "    \n",
        "    # Save plot if filename provided\n",
        "    if save_filename:\n",
        "        # Create figures directory if it doesn't exist\n",
        "        Path(\"./figures/suppl\").mkdir(parents=True, exist_ok=True)\n",
        "        # Save with high DPI for publication quality\n",
        "        fig.savefig(f\"./figures/suppl/{save_filename}\", dpi=300, bbox_inches='tight', \n",
        "                   facecolor='white', edgecolor='none')\n",
        "        print(f\"Saved plot: ./figures/suppl/{save_filename}\")\n",
        "        plt.close()\n",
        "    else:\n",
        "        plt.show()\n",
        "\n",
        "def plot_lesion_raw_vaf_histograms(lesion_sample_sets, lesion_names=None, save_plots=False):\n",
        "    \"\"\"Plot raw VAF histograms for specified lesions.\"\"\"\n",
        "    lesions_to_plot = lesion_names if lesion_names is not None else list(lesion_sample_sets.keys())\n",
        "    \n",
        "    for lesion_name in lesions_to_plot:\n",
        "        sample_set = lesion_sample_sets[lesion_name]\n",
        "        lesion_data = get_lesion_data(sample_set, apply_size_filter=True, apply_vaf_filter=False)\n",
        "        samples = get_samples_for_lesion(sample_set)\n",
        "        \n",
        "        def plot_raw_vaf(sample, ax):\n",
        "            plot_raw_vaf_for_sample(sample, ax, lesion_data)\n",
        "        \n",
        "        save_filename = f\"{lesion_name}_raw_vaf_histograms.png\" if save_plots else None\n",
        "        create_faceted_plot_for_lesion(samples, plot_raw_vaf, lesion_name, save_filename=save_filename)\n",
        "\n",
        "def plot_lesion_filtered_vaf_histograms(lesion_sample_sets, model_results, vaf_thres, lesion_names=None, save_plots=False):\n",
        "    \"\"\"Plot filtered VAF histograms with models for specified lesions.\"\"\"\n",
        "    lesions_to_plot = lesion_names if lesion_names is not None else list(lesion_sample_sets.keys())\n",
        "    \n",
        "    for lesion_name in lesions_to_plot:\n",
        "        sample_set = lesion_sample_sets[lesion_name]\n",
        "        lesion_data = get_lesion_data(sample_set, apply_size_filter=True, apply_vaf_filter=True, vaf_thres=vaf_thres)\n",
        "        samples = get_samples_for_lesion(sample_set)\n",
        "        \n",
        "        def plot_filtered_vaf(sample, ax):\n",
        "            plot_filtered_vaf_for_sample(sample, ax, lesion_data, model_results)\n",
        "        \n",
        "        save_filename = f\"{lesion_name}_filtered_vaf_histograms_vaf-{vaf_thres}.png\" if save_plots else None\n",
        "        create_faceted_plot_for_lesion(samples, plot_filtered_vaf, lesion_name, save_filename=save_filename)\n",
        "\n",
        "def plot_lesion_raw_coverage_histograms(lesion_sample_sets, lesion_names=None, save_plots=False):\n",
        "    \"\"\"Plot raw coverage histograms for specified lesions.\"\"\"\n",
        "    lesions_to_plot = lesion_names if lesion_names is not None else list(lesion_sample_sets.keys())\n",
        "    \n",
        "    for lesion_name in lesions_to_plot:\n",
        "        sample_set = lesion_sample_sets[lesion_name]\n",
        "        lesion_data = get_lesion_data(sample_set, apply_size_filter=True, apply_vaf_filter=False)\n",
        "        samples = get_samples_for_lesion(sample_set)\n",
        "        \n",
        "        def plot_raw_coverage(sample, ax):\n",
        "            plot_coverage_for_sample(sample, ax, lesion_data)\n",
        "        \n",
        "        save_filename = f\"{lesion_name}_raw_coverage_histograms.png\" if save_plots else None\n",
        "        create_faceted_plot_for_lesion(samples, plot_raw_coverage, lesion_name, save_filename=save_filename)\n",
        "\n",
        "def plot_lesion_filtered_coverage_histograms(lesion_sample_sets, model_results, vaf_thres, lesion_names=None, save_plots=False):\n",
        "    \"\"\"Plot filtered coverage histograms for specified lesions.\"\"\"\n",
        "    lesions_to_plot = lesion_names if lesion_names is not None else list(lesion_sample_sets.keys())\n",
        "    \n",
        "    for lesion_name in lesions_to_plot:\n",
        "        sample_set = lesion_sample_sets[lesion_name]\n",
        "        lesion_data = get_lesion_data(sample_set, apply_size_filter=True, apply_vaf_filter=True, vaf_thres=vaf_thres)\n",
        "        samples = get_samples_for_lesion(sample_set)\n",
        "        \n",
        "        def plot_filtered_coverage(sample, ax):\n",
        "            plot_coverage_for_sample(sample, ax, lesion_data, model_results)\n",
        "        \n",
        "        save_filename = f\"{lesion_name}_filtered_coverage_histograms_vaf-{vaf_thres}.png\" if save_plots else None\n",
        "        create_faceted_plot_for_lesion(samples, plot_filtered_coverage, lesion_name, save_filename=save_filename)\n"
      ]
    },
    {
      "cell_type": "markdown",
      "metadata": {
        "vscode": {
          "languageId": "raw"
        }
      },
      "source": [
        "## Data Loading and Preparation\n"
      ]
    },
    {
      "cell_type": "code",
      "execution_count": null,
      "metadata": {},
      "outputs": [],
      "source": [
        "# Load model results\n",
        "print(\"Loading model results...\")\n",
        "try:\n",
        "    model_results = load_model_results(vaf_thres)\n",
        "    print(f\"Loaded model results for {len(model_results)} samples\")\n",
        "except Exception as e:\n",
        "    print(f\"Error loading model results: {e}\")\n",
        "    model_results = {}\n",
        "\n",
        "# Create sample sets for each lesion\n",
        "print(\"\\nCreating sample sets for each lesion...\")\n",
        "lesion_sample_sets = {}\n",
        "for lesion_name in tqdm(all_lesions, desc=\"Processing lesions\"):\n",
        "    try:\n",
        "        sample_set = create_sample_set(lesion_name)\n",
        "        # Only include lesions that have actual data\n",
        "        if len(sample_set.sample_df) > 0:\n",
        "            lesion_sample_sets[lesion_name] = sample_set\n",
        "            samples = get_samples_for_lesion(sample_set)\n",
        "            print(f\"  {lesion_name}: {len(samples)} samples\")\n",
        "        else:\n",
        "            print(f\"  {lesion_name}: No data found, skipping\")\n",
        "    except Exception as e:\n",
        "        print(f\"  {lesion_name}: Error creating sample set - {e}\")\n",
        "\n",
        "print(f\"\\nCreated sample sets for {len(lesion_sample_sets)} lesions\")\n",
        "print(f\"Available lesions: {list(lesion_sample_sets.keys())}\")\n"
      ]
    },
    {
      "cell_type": "raw",
      "metadata": {
        "vscode": {
          "languageId": "raw"
        }
      },
      "source": [
        "## Plot 1: Raw VAF Histograms (Size Filter Only)\n",
        "\n",
        "Generate one faceted plot per lesion, showing VAF histograms for all samples within that lesion.\n"
      ]
    },
    {
      "cell_type": "code",
      "execution_count": null,
      "metadata": {},
      "outputs": [],
      "source": [
        "# Generate raw VAF histograms for all lesions\n",
        "# plot_lesion_raw_vaf_histograms(lesion_sample_sets)\n",
        "\n",
        "# Or generate for specific lesions:\n",
        "# plot_lesion_raw_vaf_histograms(lesion_sample_sets, ['FAP01_P1', 'FAP01_P2'])\n",
        "\n",
        "# To save plots:\n",
        "# plot_lesion_raw_vaf_histograms(lesion_sample_sets, save_plots=True)\n"
      ]
    },
    {
      "cell_type": "raw",
      "metadata": {
        "vscode": {
          "languageId": "raw"
        }
      },
      "source": [
        "## Plot 2: Filtered VAF Histograms with Models (VAF ≥ 0.2)\n",
        "\n",
        "Generate one faceted plot per lesion, showing filtered VAF histograms with model overlays for all samples within that lesion.\n"
      ]
    },
    {
      "cell_type": "code",
      "execution_count": null,
      "metadata": {},
      "outputs": [],
      "source": [
        "# Generate filtered VAF histograms with models for all lesions\n",
        "# plot_lesion_filtered_vaf_histograms(lesion_sample_sets, model_results, vaf_thres)\n",
        "\n",
        "# Or generate for specific lesions:\n",
        "# plot_lesion_filtered_vaf_histograms(lesion_sample_sets, model_results, vaf_thres, ['FAP01_P1', 'FAP01_P2'])\n",
        "\n",
        "# To save plots:\n",
        "# plot_lesion_filtered_vaf_histograms(lesion_sample_sets, model_results, vaf_thres, save_plots=True)\n"
      ]
    },
    {
      "cell_type": "raw",
      "metadata": {
        "vscode": {
          "languageId": "raw"
        }
      },
      "source": [
        "## Plot 3: Raw Coverage Histograms (Size Filter Only)\n",
        "\n",
        "Generate one faceted plot per lesion, showing coverage histograms for all samples within that lesion.\n"
      ]
    },
    {
      "cell_type": "code",
      "execution_count": null,
      "metadata": {},
      "outputs": [],
      "source": [
        "# Generate raw coverage histograms for all lesions\n",
        "# plot_lesion_raw_coverage_histograms(lesion_sample_sets)\n",
        "\n",
        "# Or generate for specific lesions:\n",
        "# plot_lesion_raw_coverage_histograms(lesion_sample_sets, ['FAP01_P1', 'FAP01_P2'])\n",
        "\n",
        "# To save plots:\n",
        "# plot_lesion_raw_coverage_histograms(lesion_sample_sets, save_plots=True)\n"
      ]
    },
    {
      "cell_type": "raw",
      "metadata": {
        "vscode": {
          "languageId": "raw"
        }
      },
      "source": [
        "## Plot 4: Filtered Coverage Histograms (VAF ≥ 0.2)\n",
        "\n",
        "Generate one faceted plot per lesion, showing filtered coverage histograms for all samples within that lesion.\n"
      ]
    },
    {
      "cell_type": "code",
      "execution_count": null,
      "metadata": {},
      "outputs": [],
      "source": [
        "# Generate filtered coverage histograms for all lesions\n",
        "# plot_lesion_filtered_coverage_histograms(lesion_sample_sets, model_results, vaf_thres)\n",
        "\n",
        "# Or generate for specific lesions:\n",
        "# plot_lesion_filtered_coverage_histograms(lesion_sample_sets, model_results, vaf_thres, ['FAP01_P1', 'FAP01_P2'])\n",
        "\n",
        "# To save plots:\n",
        "# plot_lesion_filtered_coverage_histograms(lesion_sample_sets, model_results, vaf_thres, save_plots=True)\n"
      ]
    },
    {
      "cell_type": "markdown",
      "metadata": {
        "vscode": {
          "languageId": "raw"
        }
      },
      "source": [
        "## Save All Plots to Figures Directory\n",
        "\n",
        "To save all plots to the `./figures/suppl/` directory, use the `save_plots=True` parameter. This will create individual plots for each lesion.\n"
      ]
    },
    {
      "cell_type": "code",
      "execution_count": null,
      "metadata": {},
      "outputs": [],
      "source": [
        "# Save all plots for all lesions\n",
        "# Uncomment the lines below to save all plots:\n",
        "\n",
        "print(\"Saving all plots...\")\n",
        "plot_lesion_raw_vaf_histograms(lesion_sample_sets, save_plots=True)\n",
        "plot_lesion_filtered_vaf_histograms(lesion_sample_sets, model_results, vaf_thres, save_plots=True)\n",
        "plot_lesion_raw_coverage_histograms(lesion_sample_sets, save_plots=True)\n",
        "plot_lesion_filtered_coverage_histograms(lesion_sample_sets, model_results, vaf_thres, save_plots=True)\n",
        "print(\"All plots saved!\")\n",
        "\n",
        "# Files will be saved as:\n",
        "# ./figures/suppl/{lesion_name}_raw_vaf_histograms.png\n",
        "# ./figures/suppl/{lesion_name}_filtered_vaf_histograms_vaf-0.2.png\n",
        "# ./figures/suppl/{lesion_name}_raw_coverage_histograms.png\n",
        "# ./figures/suppl/{lesion_name}_filtered_coverage_histograms_vaf-0.2.png\n",
        "# \n",
        "# For example:\n",
        "# ./figures/suppl/FAP01_P1_raw_vaf_histograms.png\n",
        "# ./figures/suppl/FAP01_P1_filtered_vaf_histograms_vaf-0.2.png\n",
        "# etc.\n"
      ]
    }
  ],
  "metadata": {
    "kernelspec": {
      "display_name": "venv",
      "language": "python",
      "name": "python3"
    },
    "language_info": {
      "codemirror_mode": {
        "name": "ipython",
        "version": 3
      },
      "file_extension": ".py",
      "mimetype": "text/x-python",
      "name": "python",
      "nbconvert_exporter": "python",
      "pygments_lexer": "ipython3",
      "version": "3.12.11"
    }
  },
  "nbformat": 4,
  "nbformat_minor": 2
}
