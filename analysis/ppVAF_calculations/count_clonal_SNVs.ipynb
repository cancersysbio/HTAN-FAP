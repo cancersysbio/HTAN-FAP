{
 "cells": [
  {
   "cell_type": "code",
   "execution_count": 1,
   "id": "5a7851d2",
   "metadata": {},
   "outputs": [],
   "source": [
    "%load_ext autoreload\n",
    "%autoreload 2"
   ]
  },
  {
   "cell_type": "code",
   "execution_count": 2,
   "id": "91810267",
   "metadata": {},
   "outputs": [],
   "source": [
    "import pandas as pd\n",
    "import numpy as np\n",
    "import matplotlib.pyplot as plt\n",
    "import seaborn as sns\n",
    "from scipy import stats\n",
    "from scipy.stats import binom\n",
    "from tqdm import tqdm #optional! for timing code execution\n",
    "import pickle\n",
    "from ppVAF_utils import *\n",
    "\n",
    "set2_colors = plt.get_cmap(\"Set2\").colors\n",
    "plt.rcParams['pdf.fonttype'] = 42"
   ]
  },
  {
   "cell_type": "code",
   "execution_count": 3,
   "id": "1ed6c04a",
   "metadata": {},
   "outputs": [],
   "source": [
    "# root directory where processed mutation data are stored\n",
    "# if using the zenodo data, this should point to the location of the base zenodo directory (including wes, wgs, etc subfolders)\n",
    "# these mafs will be overwritten with a \"is_clonal\" column being added!\n",
    "data_dir = \"\"\n",
    "\n",
    "# both HTAN datasets (\"HTAN_WGS\", \"HTAN_WES\") will be automatically processed- they are required to run this notebook\n",
    "# names of EXTERNAL datasets which you want to process- should match maf file names in data_dir\n",
    "# external datasets (\"PUTH\" and \"SCORT\") not included with our repo- you will have to generate these yourself\n",
    "external_dataset_names = [\"PUTH\", \"SCORT\"]\n",
    "\n",
    "# directory to save the simulation data and table with clonal counts and polyclonal calls\n",
    "# defaults to path in repo relative to current WD\n",
    "output_dir = \"../../data/clonal_count_estimation/\"\n",
    "\n",
    "annot_dir = \"../../data/scATACseq_annotations/\"\n",
    "purity_dict = pickle.load(open(annot_dir+\"scATAC_purities.p\", \"rb\"))"
   ]
  },
  {
   "cell_type": "code",
   "execution_count": 4,
   "id": "cc260f1a",
   "metadata": {},
   "outputs": [
    {
     "name": "stderr",
     "output_type": "stream",
     "text": [
      "/share/software/user/open/py-jupyter/1.0.0_py39/lib/python3.9/site-packages/IPython/core/interactiveshell.py:3441: DtypeWarning: Columns (85,87,88,90) have mixed types.Specify dtype option on import or set low_memory=False.\n",
      "  exec(code_obj, self.user_global_ns, self.user_ns)\n"
     ]
    }
   ],
   "source": [
    "filtered_maf_WGS = pd.read_csv(data_dir+\"HTAN_WGS_filtered_ppVAFs.maf\", sep=\"\\t\")\n",
    "filtered_maf_WES = pd.read_csv(data_dir+\"HTAN_WES_filtered_ppVAFs.maf\", sep=\"\\t\")\n",
    "\n",
    "sample_to_stage = dict(zip(filtered_maf_WGS[\"Tumor_Sample_Barcode\"], filtered_maf_WGS[\"Stage\"]))\n",
    "sample_to_stage.update(dict(zip(filtered_maf_WES[\"Tumor_Sample_Barcode\"], filtered_maf_WES[\"Stage\"])))"
   ]
  },
  {
   "cell_type": "code",
   "execution_count": 5,
   "id": "a16bab11",
   "metadata": {},
   "outputs": [],
   "source": [
    "only_SNVs_WGS = filtered_maf_WGS[filtered_maf_WGS[\"Variant_Type\"]==\"SNP\"]\n",
    "only_SNVs_WES = filtered_maf_WES[filtered_maf_WES[\"Variant_Type\"]==\"SNP\"]\n",
    "true_subclonal_WGS = only_SNVs_WGS[only_SNVs_WGS[\"Stage\"]==\"Mucosa\"]\n",
    "true_subclonal_WES = only_SNVs_WES[only_SNVs_WES[\"Stage\"]==\"Mucosa\"]"
   ]
  },
  {
   "cell_type": "code",
   "execution_count": 6,
   "id": "9eee0529",
   "metadata": {},
   "outputs": [],
   "source": [
    "#FUNCTIONS\n",
    "\n",
    "def simulate_clonal_muts(n_samples, coverage_fn, purity_fn):\n",
    "    coverages = np.array([coverage_fn() for x in range(n_samples)])\n",
    "    purities = np.array([purity_fn() for x in range(n_samples)])\n",
    "    expected_vafs = purities/2\n",
    "    alts = binom.rvs(coverages, expected_vafs)\n",
    "    to_return = pd.DataFrame({\"t_alt_count\":alts, \"t_ref_count\":coverages-alts, \"t_depth\":coverages})\n",
    "    to_return[\"vaf\"] = to_return[\"t_alt_count\"]/to_return[\"t_depth\"]\n",
    "    return filter_maf_depth(to_return, min_total=10, min_alt=2, min_vaf=0.01)\n",
    "\n",
    "def filter_maf_depth(maf, min_total=0, min_alt=0, min_vaf=0):\n",
    "    to_return = maf[maf[\"t_depth\"] >= min_total]\n",
    "    to_return = to_return[to_return[\"t_alt_count\"] >= min_alt]\n",
    "    return to_return[to_return[\"vaf\"] >= min_vaf]\n",
    "\n",
    "def simulate_clonal_ppVAFs(n_samples, coverage_fn, purity_fn, thresholds):\n",
    "    simulated_clonal = simulate_clonal_muts(n_samples, coverage_fn, purity_fn)\n",
    "    simulated_clonal[\"Tumor_Sample_Barcode\"] = \"clonal_sim\"\n",
    "\n",
    "    simulated_clonal_mat = np.zeros((100,1000,len(simulated_clonal)))\n",
    "\n",
    "    for i in tqdm(range(len(simulated_clonal))):\n",
    "        row = simulated_clonal.iloc[i]\n",
    "        total_cn = 2\n",
    "        mutant_cn = 1\n",
    "        simulated_clonal_mat[:, :, i] = estimate_ccf_purity(total_cn, mutant_cn, row[\"t_alt_count\"], row[\"t_depth\"])\n",
    "        simulated_clonal[\"Stage\"] = \"Benign\"\n",
    "    simulated_clonal[\"Variant_Type\"] = \"SNP\"\n",
    "    \n",
    "    simulated_clonal, clonal_add, marg = add_ccfs_count_clonal(simulated_clonal_mat, simulated_clonal, purity_dict, thresholds)\n",
    "    return simulated_clonal"
   ]
  },
  {
   "cell_type": "code",
   "execution_count": 7,
   "id": "e48ce8df",
   "metadata": {},
   "outputs": [],
   "source": [
    "only_polyps_WGS = only_SNVs_WGS[np.isin(only_SNVs_WGS[\"Stage\"], [\"Benign\", \"Dysplasia\"])]\n",
    "def coverage_fn_polyp_WGS():\n",
    "    return int(np.random.choice(only_polyps_WGS[\"t_depth\"]))\n",
    "\n",
    "only_polyps_WES = only_SNVs_WES[np.isin(only_SNVs_WES[\"Stage\"], [\"Benign\", \"Dysplasia\"])]\n",
    "def coverage_fn_polyp_WES():\n",
    "    return int(np.random.choice(only_polyps_WES[\"t_depth\"]))\n",
    "\n",
    "def purity_fn_polyp():\n",
    "    return np.random.choice(np.linspace(0.01, 1, 100), p=purity_dict[\"Benign\"])\n",
    "\n",
    "def purity_fn_AdCa():\n",
    "    return np.random.choice(np.linspace(0.01, 1, 100), p=purity_dict[\"AdCa\"])\n",
    "\n",
    "thresholds = [0.6, 0.7, 0.8, 0.9, 0.95]"
   ]
  },
  {
   "cell_type": "code",
   "execution_count": null,
   "id": "3ed96bce",
   "metadata": {},
   "outputs": [],
   "source": [
    "simulated_clonal_WGS = simulate_clonal_ppVAFs(10000, coverage_fn_polyp_WGS, purity_fn_polyp, thresholds)\n",
    "simulated_clonal_WES = simulate_clonal_ppVAFs(10000, coverage_fn_polyp_WES, purity_fn_polyp, thresholds)"
   ]
  },
  {
   "cell_type": "code",
   "execution_count": null,
   "id": "cb8b0b97",
   "metadata": {},
   "outputs": [],
   "source": [
    "simulated_clonal_WGS.to_csv(output_dir+\"simulated_clonal_WGS.csv\", index=False)\n",
    "simulated_clonal_WES.to_csv(output_dir+\"simulated_clonal_WES.csv\", index=False)"
   ]
  },
  {
   "cell_type": "code",
   "execution_count": 6,
   "id": "43366441",
   "metadata": {},
   "outputs": [],
   "source": [
    "simulated_clonal_WGS = pd.read_csv(output_dir+\"simulated_clonal_WGS.csv\")\n",
    "simulated_clonal_WES = pd.read_csv(output_dir+\"simulated_clonal_WES.csv\")"
   ]
  },
  {
   "cell_type": "code",
   "execution_count": 7,
   "id": "c11c9473",
   "metadata": {},
   "outputs": [
    {
     "name": "stderr",
     "output_type": "stream",
     "text": [
      "/oak/stanford/groups/ccurtis2/users/debra/FAP/py_notebooks/final_for_submission/analysis/ppVAF_calculations/ppVAF_utils.py:198: SettingWithCopyWarning: \n",
      "A value is trying to be set on a copy of a slice from a DataFrame.\n",
      "Try using .loc[row_indexer,col_indexer] = value instead\n",
      "\n",
      "See the caveats in the documentation: https://pandas.pydata.org/pandas-docs/stable/user_guide/indexing.html#returning-a-view-versus-a-copy\n",
      "  maf[\"init_clonal\"] = maf[posterior_colname] > initial_cutoff\n",
      "/oak/stanford/groups/ccurtis2/users/debra/FAP/py_notebooks/final_for_submission/analysis/ppVAF_calculations/ppVAF_utils.py:199: SettingWithCopyWarning: \n",
      "A value is trying to be set on a copy of a slice from a DataFrame.\n",
      "Try using .loc[row_indexer,col_indexer] = value instead\n",
      "\n",
      "See the caveats in the documentation: https://pandas.pydata.org/pandas-docs/stable/user_guide/indexing.html#returning-a-view-versus-a-copy\n",
      "  maf[\"total_muts\"] = 1\n",
      "/oak/stanford/groups/ccurtis2/users/debra/FAP/py_notebooks/final_for_submission/analysis/ppVAF_calculations/ppVAF_utils.py:218: SettingWithCopyWarning: \n",
      "A value is trying to be set on a copy of a slice from a DataFrame.\n",
      "Try using .loc[row_indexer,col_indexer] = value instead\n",
      "\n",
      "See the caveats in the documentation: https://pandas.pydata.org/pandas-docs/stable/user_guide/indexing.html#returning-a-view-versus-a-copy\n",
      "  only_sample[\"final_clonal\"] = only_sample[posterior_colname] > optimal_cutoff\n"
     ]
    }
   ],
   "source": [
    "poly_calls_WGS, _ = add_count_clonal(only_SNVs_WGS, \"clonal_cont_0.8\", simulated_clonal_WGS, true_subclonal_WGS, 63)\n",
    "poly_calls_WES, _ = add_count_clonal(only_SNVs_WES, \"clonal_cont_0.8\", simulated_clonal_WES, true_subclonal_WES, 63*0.02)\n",
    "\n",
    "\n",
    "_, WGS_clonal_save = add_count_clonal(filtered_maf_WGS, \"clonal_cont_0.8\", simulated_clonal_WGS, true_subclonal_WGS, 63)\n",
    "_, WES_clonal_save = add_count_clonal(filtered_maf_WES, \"clonal_cont_0.8\", simulated_clonal_WES, true_subclonal_WES, 63*0.02)\n"
   ]
  },
  {
   "cell_type": "code",
   "execution_count": 8,
   "id": "e1b133a9",
   "metadata": {},
   "outputs": [],
   "source": [
    "WGS_clonal_save.to_csv(data_dir+\"HTAN_WGS_filtered_ppVAFs_TEMPFORCLONAL.maf\", index=False, sep=\"\\t\")\n",
    "WES_clonal_save.to_csv(data_dir+\"HTAN_WES_filtered_ppVAFs_TEMPFORCLONAL.maf\", index=False, sep=\"\\t\")"
   ]
  },
  {
   "cell_type": "code",
   "execution_count": 9,
   "id": "8ec9b579",
   "metadata": {},
   "outputs": [],
   "source": [
    "poly_calls_WES[\"has_WES\"] = True\n",
    "poly_calls_WGS[\"has_WGS\"] = True\n",
    "\n",
    "all_clonal = poly_calls_WES.join(poly_calls_WGS, rsuffix=\"_WGS\", lsuffix=\"_WES\", how=\"outer\")\n",
    "\n",
    "all_clonal[\"has_WGS\"] = all_clonal[\"has_WGS\"].fillna(False)\n",
    "all_clonal[\"has_WES\"] = all_clonal[\"has_WES\"].fillna(False)\n",
    "\n",
    "sample_to_stage = dict(zip(filtered_maf_WGS[\"Tumor_Sample_Barcode\"], filtered_maf_WGS[\"Stage\"]))\n",
    "sample_to_stage.update(dict(zip(filtered_maf_WES[\"Tumor_Sample_Barcode\"], filtered_maf_WES[\"Stage\"])))\n",
    "all_clonal[\"stage\"] = [sample_to_stage[x] for x in all_clonal.index]\n",
    "\n",
    "sample_to_patient = dict(zip(filtered_maf_WGS[\"Tumor_Sample_Barcode\"], filtered_maf_WGS[\"Patient\"]))\n",
    "sample_to_patient.update(dict(zip(filtered_maf_WES[\"Tumor_Sample_Barcode\"], filtered_maf_WES[\"Patient\"])))\n",
    "all_clonal[\"patient\"] = [sample_to_patient[x] for x in all_clonal.index]\n",
    "\n",
    "all_clonal[\"is_poly\"] = [all_clonal.iloc[i][\"is_poly_WGS\"] if all_clonal.iloc[i][\"has_WGS\"] else all_clonal.iloc[i][\"is_poly_WES\"] for i in range(len(all_clonal))]\n",
    "\n",
    "all_clonal.drop(columns=[\"stage_WES\", \"stage_WGS\"], inplace=True)"
   ]
  },
  {
   "cell_type": "code",
   "execution_count": 10,
   "id": "247e74ba",
   "metadata": {},
   "outputs": [],
   "source": [
    "all_clonal.to_csv(output_dir+\"clonal_SNVs_WES_WGS.csv\")"
   ]
  },
  {
   "cell_type": "code",
   "execution_count": 8,
   "id": "8b268600",
   "metadata": {},
   "outputs": [
    {
     "name": "stderr",
     "output_type": "stream",
     "text": [
      "100%|██████████| 9985/9985 [04:15<00:00, 39.06it/s]\n",
      "/oak/stanford/groups/ccurtis2/users/debra/FAP/py_notebooks/final_for_submission/analysis/ppVAF_calculations/ppVAF_utils.py:198: SettingWithCopyWarning: \n",
      "A value is trying to be set on a copy of a slice from a DataFrame.\n",
      "Try using .loc[row_indexer,col_indexer] = value instead\n",
      "\n",
      "See the caveats in the documentation: https://pandas.pydata.org/pandas-docs/stable/user_guide/indexing.html#returning-a-view-versus-a-copy\n",
      "  maf[\"init_clonal\"] = maf[posterior_colname] > initial_cutoff\n",
      "/oak/stanford/groups/ccurtis2/users/debra/FAP/py_notebooks/final_for_submission/analysis/ppVAF_calculations/ppVAF_utils.py:199: SettingWithCopyWarning: \n",
      "A value is trying to be set on a copy of a slice from a DataFrame.\n",
      "Try using .loc[row_indexer,col_indexer] = value instead\n",
      "\n",
      "See the caveats in the documentation: https://pandas.pydata.org/pandas-docs/stable/user_guide/indexing.html#returning-a-view-versus-a-copy\n",
      "  maf[\"total_muts\"] = 1\n",
      "/oak/stanford/groups/ccurtis2/users/debra/FAP/py_notebooks/final_for_submission/analysis/ppVAF_calculations/ppVAF_utils.py:218: SettingWithCopyWarning: \n",
      "A value is trying to be set on a copy of a slice from a DataFrame.\n",
      "Try using .loc[row_indexer,col_indexer] = value instead\n",
      "\n",
      "See the caveats in the documentation: https://pandas.pydata.org/pandas-docs/stable/user_guide/indexing.html#returning-a-view-versus-a-copy\n",
      "  only_sample[\"final_clonal\"] = only_sample[posterior_colname] > optimal_cutoff\n",
      "100%|██████████| 9659/9659 [04:06<00:00, 39.12it/s]\n",
      "100%|██████████| 9989/9989 [04:14<00:00, 39.28it/s]\n",
      "100%|██████████| 9516/9516 [03:56<00:00, 40.15it/s]\n"
     ]
    }
   ],
   "source": [
    "for dataset in external_dataset_names:\n",
    "    filtered_maf = pd.read_csv(data_dir+dataset+\"_filtered_ppVAFs.maf\", sep=\"\\t\")\n",
    "    only_SNVs = filtered_maf[filtered_maf[\"Variant_Type\"]==\"SNP\"]\n",
    "    only_polyps = only_SNVs[np.isin(only_SNVs[\"Stage\"], [\"Benign\", \"Dysplasia\", \"Adenoma\"])]\n",
    "    \n",
    "    only_mucosa = only_SNVs[np.isin(only_SNVs[\"Stage\"], [\"Mucosa\"])]\n",
    "    only_cancer = only_SNVs[np.isin(only_SNVs[\"Stage\"], [\"Carcinoma\", \"AdCa\"])]\n",
    "    def coverage_fn_polyp():\n",
    "        return int(np.random.choice(only_polyps[\"t_depth\"]))\n",
    "    \n",
    "    def coverage_fn_AdCa():\n",
    "        return int(np.random.choice(only_cancer[\"t_depth\"]))\n",
    "    \n",
    "    simulated_clonal = simulate_clonal_ppVAFs(10000, coverage_fn_polyp, purity_fn_polyp, thresholds)\n",
    "    \n",
    "    poly_to_concat = []\n",
    "    \n",
    "    poly_calls, _ = add_count_clonal(only_polyps, \"clonal_cont_0.8\", simulated_clonal, true_subclonal_WGS, 63*0.02)\n",
    "    poly_to_concat.append(poly_calls)\n",
    "    \n",
    "    if len(only_mucosa) > 0:\n",
    "        poly_calls, _ = add_count_clonal(only_mucosa, \"clonal_cont_0.8\", simulated_clonal, true_subclonal_WGS, 63*0.02)\n",
    "        poly_to_concat.append(poly_calls)\n",
    "        \n",
    "    simulated_clonal = simulate_clonal_ppVAFs(10000, coverage_fn_AdCa, purity_fn_AdCa, thresholds)\n",
    "    poly_calls, _ = add_count_clonal(only_cancer, \"clonal_cont_0.8\", simulated_clonal, true_subclonal_WGS, 63*0.02)\n",
    "    poly_to_concat.append(poly_calls)\n",
    "    \n",
    "    poly_calls = pd.concat(poly_to_concat)\n",
    "    \n",
    "    sample_to_stage = dict(zip(filtered_maf[\"Tumor_Sample_Barcode\"], filtered_maf[\"Stage\"]))\n",
    "    sample_to_patient = dict(zip(filtered_maf[\"Tumor_Sample_Barcode\"], filtered_maf[\"Patient\"]))\n",
    "    \n",
    "    poly_calls[\"stage\"] = [sample_to_stage[x] for x in poly_calls.index]\n",
    "    poly_calls[\"patient\"] = [sample_to_patient[x] for x in poly_calls.index]\n",
    "    poly_calls.to_csv(output_dir+dataset+\"_clonal_SNVs.csv\")\n",
    "    "
   ]
  },
  {
   "cell_type": "code",
   "execution_count": null,
   "id": "8c3f83fb",
   "metadata": {},
   "outputs": [],
   "source": []
  }
 ],
 "metadata": {
  "kernelspec": {
   "display_name": "Python 3 (ipykernel)",
   "language": "python",
   "name": "python3"
  },
  "language_info": {
   "codemirror_mode": {
    "name": "ipython",
    "version": 3
   },
   "file_extension": ".py",
   "mimetype": "text/x-python",
   "name": "python",
   "nbconvert_exporter": "python",
   "pygments_lexer": "ipython3",
   "version": "3.9.0"
  }
 },
 "nbformat": 4,
 "nbformat_minor": 5
}
